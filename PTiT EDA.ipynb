{
 "cells": [
  {
   "cell_type": "markdown",
   "metadata": {},
   "source": [
    "# EDA for Parking tickets in Toronto Dataset"
   ]
  },
  {
   "cell_type": "markdown",
   "metadata": {},
   "source": [
    "Here we are going to analyze the Parking Tickets in Toronto dataset for the year 2020. In this study, we will learn about the probability of getting a parking ticket in Toronto, as we will observe ticket occurrence trends with respect to date, time, address, vehicle plate province, and the fine amount. I hope by reading this notebook, the reader can save avoide occasions that have the highest probability rates to have a parking ticket in Toronto.\n",
    "\n",
    "Let's begin with loading the necessary python packages for our code!"
   ]
  },
  {
   "cell_type": "markdown",
   "metadata": {},
   "source": [
    "### 1. Load Data"
   ]
  },
  {
   "cell_type": "code",
   "execution_count": 2,
   "metadata": {},
   "outputs": [],
   "source": [
    "# Import packages\n",
    "import pandas as pd\n",
    "import numpy as np\n",
    "import os, glob\n",
    "import seaborn as sns\n",
    "import matplotlib.pyplot as plt\n",
    "import matplotlib.patches as mpatches\n",
    "plt.rcParams.update(plt.rcParamsDefault)\n",
    "import calendar"
   ]
  },
  {
   "cell_type": "markdown",
   "metadata": {},
   "source": [
    "Now let's define some functions to have a more organized and manageable code."
   ]
  },
  {
   "cell_type": "code",
   "execution_count": 2,
   "metadata": {},
   "outputs": [],
   "source": [
    "# define functions\n",
    "def prob(x):\n",
    "    x = round(x.div(len(data))*100, 2)\n",
    "    return x\n",
    "\n",
    "def get_prob_df(data, var_name1, var_name2, nlargest=None):\n",
    "    y = data.groupby(var_name1)[var_name2].count().reset_index(name=\"count\")\n",
    "    y[\"probability\"] = round(y[\"count\"].div(len(data))*100, 2)\n",
    "    y = y.sort_values('probability', ascending=False)\n",
    "    if nlargest != None:\n",
    "        y = y.nlargest(nlargest,'count')\n",
    "    cum_prob = y[\"probability\"].sum()\n",
    "    print(\"Cumulative probability [%] = \"+str(round(cum_prob, 1)))\n",
    "    return y \n",
    "\n",
    "def plot_prob_bar_v(d, var_name, color='skyblue', line_at=None, title=None, var_label=None, tick_rot=None):\n",
    "    plt.figure(num=None, figsize=(12, 6), dpi=80, facecolor='w', edgecolor='k')\n",
    "    plt.bar(d[var_name], d[\"probability\"], color=color, edgecolor='black', linewidth=0.7,width = 0.5)\n",
    "    plt.ylabel(\"Probability of infractions [%]\", fontsize=16)\n",
    "    plt.xlabel(var_label, fontsize=16)\n",
    "    plt.xticks(d[var_name],rotation=tick_rot)\n",
    "    plt.title(title, fontsize=16)\n",
    "    if line_at != None :\n",
    "        plt.axhline(line_at, color='r', linestyle='dashed', linewidth=1)\n",
    "        plt.legend([str(line_at)+'% probability'], loc='upper right')\n",
    "    plt.show()\n",
    "    return\n",
    "\n",
    "def plot_prob_bar_h(d, var_name, color='skyblue', line_at=None, title=None, var_label=None, tick_rot=None):\n",
    "    plt.figure(num=None, figsize=(12, 6), dpi=80, facecolor='w', edgecolor='k')\n",
    "    plt.barh(d[var_name], d[\"probability\"], color=color, edgecolor='black', linewidth=0.7, height = 0.5)\n",
    "    plt.xlabel(\"Probability of infractions [%]\", fontsize=16)\n",
    "    plt.ylabel(var_label, fontsize=16)\n",
    "    plt.yticks(d[var_name],rotation=tick_rot)\n",
    "    plt.title(title, fontsize=16)\n",
    "    if line_at != None :\n",
    "        plt.axvline(line_at, color='r', linestyle='dashed', linewidth=1)\n",
    "        plt.legend([str(line_at)+'% probability'], loc='upper right')\n",
    "    plt.show()\n",
    "    return\n",
    "\n",
    "def top(x, var_name, tn=3):\n",
    "    if len(x) > tn:\n",
    "        y = x[[var_name, \"probability\"]].sort_values('probability', ascending=False)\n",
    "        y = y.reset_index(inplace=False, drop=True)\n",
    "        y = y.iloc[0:tn]\n",
    "    else:\n",
    "        y = x[[var_name, \"probability\"]].sort_values('probability', ascending=False)\n",
    "    return y"
   ]
  },
  {
   "cell_type": "markdown",
   "metadata": {},
   "source": [
    "Now let's start our code and load our dataset!\\\n",
    "The 2020 dataset consists of 5 csv files, so we will need to loop over them."
   ]
  },
  {
   "cell_type": "code",
   "execution_count": 9,
   "metadata": {},
   "outputs": [
    {
     "data": {
      "text/html": [
       "<div>\n",
       "<style scoped>\n",
       "    .dataframe tbody tr th:only-of-type {\n",
       "        vertical-align: middle;\n",
       "    }\n",
       "\n",
       "    .dataframe tbody tr th {\n",
       "        vertical-align: top;\n",
       "    }\n",
       "\n",
       "    .dataframe thead th {\n",
       "        text-align: right;\n",
       "    }\n",
       "</style>\n",
       "<table border=\"1\" class=\"dataframe\">\n",
       "  <thead>\n",
       "    <tr style=\"text-align: right;\">\n",
       "      <th></th>\n",
       "      <th>tag_number_masked</th>\n",
       "      <th>date_of_infraction</th>\n",
       "      <th>infraction_code</th>\n",
       "      <th>infraction_description</th>\n",
       "      <th>set_fine_amount</th>\n",
       "      <th>time_of_infraction</th>\n",
       "      <th>location1</th>\n",
       "      <th>location2</th>\n",
       "      <th>location3</th>\n",
       "      <th>location4</th>\n",
       "      <th>province</th>\n",
       "    </tr>\n",
       "  </thead>\n",
       "  <tbody>\n",
       "    <tr>\n",
       "      <th>0</th>\n",
       "      <td>***60020</td>\n",
       "      <td>20200101</td>\n",
       "      <td>3</td>\n",
       "      <td>PARK ON PRIVATE PROPERTY</td>\n",
       "      <td>30</td>\n",
       "      <td>1.0</td>\n",
       "      <td>NaN</td>\n",
       "      <td>4700 JANE ST</td>\n",
       "      <td>NaN</td>\n",
       "      <td>NaN</td>\n",
       "      <td>SK</td>\n",
       "    </tr>\n",
       "    <tr>\n",
       "      <th>1</th>\n",
       "      <td>***46473</td>\n",
       "      <td>20200101</td>\n",
       "      <td>29</td>\n",
       "      <td>PARK PROHIBITED TIME NO PERMIT</td>\n",
       "      <td>30</td>\n",
       "      <td>2.0</td>\n",
       "      <td>OPP</td>\n",
       "      <td>573 CLENDENAN AVE</td>\n",
       "      <td>NaN</td>\n",
       "      <td>NaN</td>\n",
       "      <td>ON</td>\n",
       "    </tr>\n",
       "    <tr>\n",
       "      <th>2</th>\n",
       "      <td>***46474</td>\n",
       "      <td>20200101</td>\n",
       "      <td>29</td>\n",
       "      <td>PARK PROHIBITED TIME NO PERMIT</td>\n",
       "      <td>30</td>\n",
       "      <td>2.0</td>\n",
       "      <td>NR</td>\n",
       "      <td>573 CLENDENAN AVE</td>\n",
       "      <td>NaN</td>\n",
       "      <td>NaN</td>\n",
       "      <td>ON</td>\n",
       "    </tr>\n",
       "    <tr>\n",
       "      <th>3</th>\n",
       "      <td>***46475</td>\n",
       "      <td>20200101</td>\n",
       "      <td>29</td>\n",
       "      <td>PARK PROHIBITED TIME NO PERMIT</td>\n",
       "      <td>30</td>\n",
       "      <td>4.0</td>\n",
       "      <td>NR</td>\n",
       "      <td>21 MARIA ST</td>\n",
       "      <td>NaN</td>\n",
       "      <td>NaN</td>\n",
       "      <td>ON</td>\n",
       "    </tr>\n",
       "    <tr>\n",
       "      <th>4</th>\n",
       "      <td>***46674</td>\n",
       "      <td>20200101</td>\n",
       "      <td>29</td>\n",
       "      <td>PARK PROHIBITED TIME NO PERMIT</td>\n",
       "      <td>30</td>\n",
       "      <td>4.0</td>\n",
       "      <td>NR</td>\n",
       "      <td>164 GLENHOLME AVE</td>\n",
       "      <td>NaN</td>\n",
       "      <td>NaN</td>\n",
       "      <td>ON</td>\n",
       "    </tr>\n",
       "  </tbody>\n",
       "</table>\n",
       "</div>"
      ],
      "text/plain": [
       "  tag_number_masked  date_of_infraction  infraction_code  \\\n",
       "0          ***60020            20200101                3   \n",
       "1          ***46473            20200101               29   \n",
       "2          ***46474            20200101               29   \n",
       "3          ***46475            20200101               29   \n",
       "4          ***46674            20200101               29   \n",
       "\n",
       "           infraction_description  set_fine_amount  time_of_infraction  \\\n",
       "0        PARK ON PRIVATE PROPERTY               30                 1.0   \n",
       "1  PARK PROHIBITED TIME NO PERMIT               30                 2.0   \n",
       "2  PARK PROHIBITED TIME NO PERMIT               30                 2.0   \n",
       "3  PARK PROHIBITED TIME NO PERMIT               30                 4.0   \n",
       "4  PARK PROHIBITED TIME NO PERMIT               30                 4.0   \n",
       "\n",
       "  location1          location2 location3 location4 province  \n",
       "0       NaN       4700 JANE ST       NaN       NaN       SK  \n",
       "1       OPP  573 CLENDENAN AVE       NaN       NaN       ON  \n",
       "2        NR  573 CLENDENAN AVE       NaN       NaN       ON  \n",
       "3        NR        21 MARIA ST       NaN       NaN       ON  \n",
       "4        NR  164 GLENHOLME AVE       NaN       NaN       ON  "
      ]
     },
     "execution_count": 9,
     "metadata": {},
     "output_type": "execute_result"
    }
   ],
   "source": [
    "# load data\n",
    "path = \"./data/\"\n",
    "# files = [file for file in glob.glob(path+\"*.csv\")]\n",
    "files = [file for file in os.listdir(\"./data\") if file.endswith('.csv')]\n",
    "data = pd.DataFrame()\n",
    "for file in files:\n",
    "    data = pd.concat([data, pd.read_csv(path+file)], axis=0)\n",
    "\n",
    "data.head()"
   ]
  },
  {
   "cell_type": "markdown",
   "metadata": {},
   "source": [
    "Our data is loaded successfully, in the next section we are going to dive more into our data to understand it before commencing our analysis."
   ]
  },
  {
   "cell_type": "markdown",
   "metadata": {},
   "source": [
    "### 2. Data Understanding"
   ]
  },
  {
   "cell_type": "markdown",
   "metadata": {},
   "source": [
    "We can start by learnig about how data size."
   ]
  },
  {
   "cell_type": "code",
   "execution_count": 9,
   "metadata": {},
   "outputs": [
    {
     "data": {
      "text/plain": [
       "(1403663, 11)"
      ]
     },
     "execution_count": 9,
     "metadata": {},
     "output_type": "execute_result"
    }
   ],
   "source": [
    "data_len_0 = len(data)\n",
    "data.shape"
   ]
  },
  {
   "cell_type": "markdown",
   "metadata": {},
   "source": [
    "We can find our data has 1.4M observations and 11 variables.\\\n",
    "Let's now learn about data variables data types."
   ]
  },
  {
   "cell_type": "code",
   "execution_count": 5,
   "metadata": {},
   "outputs": [
    {
     "data": {
      "text/plain": [
       "tag_number_masked          object\n",
       "date_of_infraction          int64\n",
       "infraction_code             int64\n",
       "infraction_description     object\n",
       "set_fine_amount             int64\n",
       "time_of_infraction        float64\n",
       "location1                  object\n",
       "location2                  object\n",
       "location3                  object\n",
       "location4                  object\n",
       "province                   object\n",
       "dtype: object"
      ]
     },
     "execution_count": 5,
     "metadata": {},
     "output_type": "execute_result"
    }
   ],
   "source": [
    "data.dtypes"
   ]
  },
  {
   "cell_type": "markdown",
   "metadata": {},
   "source": [
    "We can find that the majority of our data variables have an object data type. As a result, we should expect our analysis to be primirlay baed on categorical analysis.\\\n",
    "In order to understand what every data variables reflect, let's pull up the variables description from the README file as follow,"
   ]
  },
  {
   "cell_type": "markdown",
   "metadata": {},
   "source": [
    "#### Form README File:\n",
    "* **tag_number_masked:** First three (3) characters masked with asterisks\n",
    "* **date_of_infraction:** Date the infraction occurred in YYYYMMDD format\n",
    "* **infraction_code:** Applicable Infraction code (numeric)\n",
    "* **infraction_description:** Short description of the infraction\n",
    "* **set_fine_amount:** Amount of set fine applicable (in dollars)\n",
    "* **time_of_infraction:** Time the infraction occurred  in HHMM format (24-hr clock)\n",
    "* **location1:** Code to denote proximity (see table below)\n",
    "* **location2:** Street address\n",
    "* **location3:** Code to denote proximity (optional)\n",
    "* **location4:** Street address (optional)\n",
    "* **province:** Province or state code of vehicle licence plate"
   ]
  },
  {
   "cell_type": "markdown",
   "metadata": {},
   "source": [
    "From the README file we can observe the following,\n",
    "* tag_number_masked data variable doesn't provide relevant useful information and consequently it can be discarded from the data analysis\n",
    "* Similarly, infraction_code data variable can be discarded form data analysis as infraction_description data variables describe these codes and it can be used instead\\\n",
    "\n",
    "Now we can print the describe function for our data to learn more about the numerical features of the data."
   ]
  },
  {
   "cell_type": "code",
   "execution_count": 6,
   "metadata": {},
   "outputs": [
    {
     "data": {
      "text/html": [
       "<div>\n",
       "<style scoped>\n",
       "    .dataframe tbody tr th:only-of-type {\n",
       "        vertical-align: middle;\n",
       "    }\n",
       "\n",
       "    .dataframe tbody tr th {\n",
       "        vertical-align: top;\n",
       "    }\n",
       "\n",
       "    .dataframe thead th {\n",
       "        text-align: right;\n",
       "    }\n",
       "</style>\n",
       "<table border=\"1\" class=\"dataframe\">\n",
       "  <thead>\n",
       "    <tr style=\"text-align: right;\">\n",
       "      <th></th>\n",
       "      <th>date_of_infraction</th>\n",
       "      <th>infraction_code</th>\n",
       "      <th>set_fine_amount</th>\n",
       "      <th>time_of_infraction</th>\n",
       "    </tr>\n",
       "  </thead>\n",
       "  <tbody>\n",
       "    <tr>\n",
       "      <th>count</th>\n",
       "      <td>1,403,663</td>\n",
       "      <td>1,403,663</td>\n",
       "      <td>1,403,663</td>\n",
       "      <td>1,402,368</td>\n",
       "    </tr>\n",
       "    <tr>\n",
       "      <th>mean</th>\n",
       "      <td>20,200,678</td>\n",
       "      <td>77</td>\n",
       "      <td>50</td>\n",
       "      <td>1,137</td>\n",
       "    </tr>\n",
       "    <tr>\n",
       "      <th>std</th>\n",
       "      <td>384</td>\n",
       "      <td>121</td>\n",
       "      <td>48</td>\n",
       "      <td>602</td>\n",
       "    </tr>\n",
       "    <tr>\n",
       "      <th>min</th>\n",
       "      <td>20,200,101</td>\n",
       "      <td>1</td>\n",
       "      <td>0</td>\n",
       "      <td>0</td>\n",
       "    </tr>\n",
       "    <tr>\n",
       "      <th>25%</th>\n",
       "      <td>20,200,228</td>\n",
       "      <td>3</td>\n",
       "      <td>30</td>\n",
       "      <td>732</td>\n",
       "    </tr>\n",
       "    <tr>\n",
       "      <th>50%</th>\n",
       "      <td>20,200,810</td>\n",
       "      <td>8</td>\n",
       "      <td>30</td>\n",
       "      <td>1,200</td>\n",
       "    </tr>\n",
       "    <tr>\n",
       "      <th>75%</th>\n",
       "      <td>20,201,015</td>\n",
       "      <td>207</td>\n",
       "      <td>50</td>\n",
       "      <td>1,604</td>\n",
       "    </tr>\n",
       "    <tr>\n",
       "      <th>max</th>\n",
       "      <td>20,201,231</td>\n",
       "      <td>435</td>\n",
       "      <td>450</td>\n",
       "      <td>3,200</td>\n",
       "    </tr>\n",
       "  </tbody>\n",
       "</table>\n",
       "</div>"
      ],
      "text/plain": [
       "      date_of_infraction infraction_code set_fine_amount time_of_infraction\n",
       "count          1,403,663       1,403,663       1,403,663          1,402,368\n",
       "mean          20,200,678              77              50              1,137\n",
       "std                  384             121              48                602\n",
       "min           20,200,101               1               0                  0\n",
       "25%           20,200,228               3              30                732\n",
       "50%           20,200,810               8              30              1,200\n",
       "75%           20,201,015             207              50              1,604\n",
       "max           20,201,231             435             450              3,200"
      ]
     },
     "execution_count": 6,
     "metadata": {},
     "output_type": "execute_result"
    }
   ],
   "source": [
    "data.describe().applymap('{:,.0f}'.format)"
   ]
  },
  {
   "cell_type": "markdown",
   "metadata": {},
   "source": [
    "From the describe table we can observe the following,\n",
    "* Date of infraction data covers the whole 2020 year span form Jan. 1st 2020 to Dec. 31 2020.\n",
    "* The tickets fine amounts in dollars range between 0 to 450$ where 50% of fines are of 30$ or less and 75% of fines are of 50$ or less.\n",
    "* Also, having fines of amount 0$ should represent a noise in the data.\n",
    "* The time of infraction has a maximum if 32:00 HR:MIN, whcih is not logical and times > 24:00 will need to be discared for the analysis.\\\n",
    "\n",
    "Now we can proceed with further exploration and let's learn about the number of unique values/categories we have in our dataset."
   ]
  },
  {
   "cell_type": "code",
   "execution_count": 7,
   "metadata": {},
   "outputs": [
    {
     "name": "stdout",
     "output_type": "stream",
     "text": [
      "Number of unique values stat:\n"
     ]
    },
    {
     "data": {
      "text/plain": [
       "tag_number_masked         100000\n",
       "date_of_infraction           366\n",
       "infraction_code              156\n",
       "infraction_description       168\n",
       "set_fine_amount               14\n",
       "time_of_infraction          1446\n",
       "location1                    356\n",
       "location2                 166530\n",
       "location3                     58\n",
       "location4                   3009\n",
       "province                      66\n",
       "dtype: int64"
      ]
     },
     "execution_count": 7,
     "metadata": {},
     "output_type": "execute_result"
    }
   ],
   "source": [
    "print(\"Number of unique values stat:\")\n",
    "data.nunique()"
   ]
  },
  {
   "cell_type": "markdown",
   "metadata": {},
   "source": [
    "From the unique values stat we can learn that our dataset has a high number of categories which leads to a more challenging categorical analysis. But let's have more fun!\\\n",
    "\n",
    "Now let's discover the amount of null/na values we have in our data."
   ]
  },
  {
   "cell_type": "code",
   "execution_count": 8,
   "metadata": {},
   "outputs": [
    {
     "name": "stdout",
     "output_type": "stream",
     "text": [
      "Percentage of null values in data: \n"
     ]
    },
    {
     "data": {
      "text/plain": [
       "tag_number_masked          0.00\n",
       "date_of_infraction         0.00\n",
       "infraction_code            0.00\n",
       "infraction_description     0.00\n",
       "set_fine_amount            0.00\n",
       "time_of_infraction         0.09\n",
       "location1                 12.59\n",
       "location2                  0.01\n",
       "location3                 92.92\n",
       "location4                 92.89\n",
       "province                   0.00\n",
       "dtype: float64"
      ]
     },
     "execution_count": 8,
     "metadata": {},
     "output_type": "execute_result"
    }
   ],
   "source": [
    "x = prob(data.isnull().sum())\n",
    "print(\"Percentage of null values in data: \")\n",
    "x"
   ]
  },
  {
   "cell_type": "markdown",
   "metadata": {},
   "source": [
    "Based on th enull values stat we can observe the following,\n",
    "* location3 and location4 have the highest percentage of null data and it's almost 93%.\n",
    "* location1 has comes third in terms of null data in terms of percentage that's around 12.5%\n",
    "* The rest of the data variables have zero or near zero null data (Good!)\n",
    "* As a result, we can conclude that investig location will be mainly based on location1 and location2. \n",
    "\n",
    "But before moving forward, let's have a deeper understanding of location1 and location2 variables by investigating their unique values.  "
   ]
  },
  {
   "cell_type": "code",
   "execution_count": 9,
   "metadata": {},
   "outputs": [
    {
     "data": {
      "text/plain": [
       "array([nan, 'OPP', 'NR', 'W/S', 'AT', 'E/S', 'N/S', 'S/S', 'R/O',\n",
       "       'NEARE/B', 'W/O', 'S/O', 'N/O', '25', 'NEAR', 'N/R', 'NEAW/B',\n",
       "       'NEARW/B', 'NEAR E/B', 'E/O', 'TOR PKG', 'AR', 'ATR', '415',\n",
       "       'NEAR EB', 'ATE/B', 'N/B', 'N/W CORNER', 'NEAR N/B', 'NEAR WB',\n",
       "       'REAR OF', 'MEAR', '2020', '75', '200 ', 'AT 19 ', 'NR E/B',\n",
       "       'NR EB', '315', '567', '8', 'QT', 'AT ', '1750', '145', 'ON',\n",
       "       'NEAR W/B', '775', '4001', '79', 'NEAR S/B', 'NEARN/B', '705',\n",
       "       'V/P', 'BEARE/B', 'NEA E/B', 'NRS/S OF', '3735', '2', '373', 'WS',\n",
       "       'REAR', 'NR/N', 'NR N/E', '126', 'ST', '1571', '296', '18', 'MR',\n",
       "       '2413', '7 ', 'REAR/OF', '11', '5667', '10', '17', '101',\n",
       "       'NR W OF', '1030', '2760 ', 'EB', 'E/B', '4256', 'W/B', '200',\n",
       "       '167', '7', '2075', 'AT EB', '4700', '701', '285', '1750 ', 'O/F',\n",
       "       '12', 'OPPOSITE', '5', '6040', '51 ', 'N', '50', 'NO', '20', '80',\n",
       "       'AY', 'AZ35349', '45', '3', '107', '2170', 'X', '80 ', '4001 ',\n",
       "       '675', '1286', '22', 'ACROSS', 'AT S/B', '70', '10/20', '1525',\n",
       "       'NB', '4978', '456', '74', 'OF', '39', '207', '31A ', '9', '559',\n",
       "       '30 ', '2100', '495', '4020', 'VSTR PKG', '1000', 'VST PKG',\n",
       "       '2020 ', 'VSTRS PKG', '226 ', '55', 'W/B LANE', '420 ', '1010',\n",
       "       'SS', '186', '190', '6093', '40 ', '311', 'NEA WB', '77', 'TA',\n",
       "       '100', 'RAR', '1995', '9 BOGART', '15', 'AT 255', '114', 'NEAR NB',\n",
       "       'ACRS FRM', 'HWY 404', '187', 'AT PKGLOT', 'AT/SB', 'BUS BAY',\n",
       "       'NEA EB', '30', 'SOUTH SIDE', 'PKG LOTDWY', 'PKG LDRWY', 'BASE OF',\n",
       "       'NORTH SIDE', 'NR N/S OF', 'NRE/SOF', '500', '21', '299', 'AT/NR',\n",
       "       '6458', 'NORTH OF', '265', '155', '110', '812', 'AB', '246',\n",
       "       '1091', '730', 'UGBTW38-39', 'UNDERGRND', 'B/R', '1901 ', '1901',\n",
       "       'OFF', '28', 'UG TNT PRK', 'UG TNT PKG', '4', 'V5 UG UST',\n",
       "       'V6-UGVSTPK', 'V10', '456 ', '460 ', '1', '460', 'V11', 'V8',\n",
       "       'AT/REAR', '31A', 'WEST SIDE', 'V9', 'V12', 'V13', 'U8',\n",
       "       'NEAR/NOF', 'UG TENT PR', 'UGTNTPRK', 'UG', 'NWY ATREAR',\n",
       "       'UGTNT PRK', 'V7', 'MB', 'UDTNTPRK', 'UDTNT PRK', 'T', 'ODTNTPRK',\n",
       "       'V-7', 'V5', 'AT REAR', '73UDTNTPRK', 'V/S', 'V6', 'V-5', 'V-4',\n",
       "       'V-2', '33UGTNTPRK', '32UGTNTPRK', '61UGTNPRK', '55UGTNTPRK',\n",
       "       '10UGTNTPRK', '27UGTNTPRK', 'UGNTPRK-73', 'UGPNTPRK', 'UFTNTPRK',\n",
       "       'UGRNTPRK', 'UGTNPRK-75', '151', 'UDGRND CST', '5000',\n",
       "       'PRKPLYGRND', 'ENTRANCE', 'PLYGRND', 'PRKNG LOT', 'PKNG LOT', 'V4',\n",
       "       'ODTNTPARK', 'ODTNT PARK', 'OD TNT PAR', 'S/B', 'UG VST PRK',\n",
       "       'UD TNT PRK', 'R P/OT AT', 'CDTNTPRK', '44', '29', 'ODTENTPRK',\n",
       "       'ODVSTPRK', 'CDVSTPRK', 'CDVST PRK', 'ODVSTPTK', 'NEAR N B', 'NS',\n",
       "       'BR', 'UGVST PRK', 'UGVST PARK', 'ODVST PRK', 'OD VST PRK',\n",
       "       'EAST SIDE', 'AT GRGE', 'AT UD GRG', 'ES', 'UG VSTPRK', 'O/F OF',\n",
       "       'ODTNT PRK', 'OD TNT PRK', 'V2', 'EMPTY SPT', 'RESD SPOT',\n",
       "       'UGNO DSSPT', 'OP', 'NR/OP', 'FRONT', 'MAXM 2 HRS', 'RES PRKNG',\n",
       "       '40', 'SHRD DRVWY', 'ON ST FRNT', 'FRNT OF', '75 ', 'NO DSGNTD',\n",
       "       '16', 'NE', 'OUT/FRONT', '505', 'PRM#INVLD', 'NO PERMIT',\n",
       "       'UG TNT PAR', 'I/F', 'RSRVD PKG', 'ENT UG TNT', '38', 'OUT FRONT',\n",
       "       'S/W COR ED', 'R', 'VSTPRKONLY', 'PRMTNOVSBL', 'MX2HRS', 'MAX2HRS',\n",
       "       'CSTCNPRK', 'NO PRMT', 'EXCDSMXTM', 'OPO', 'R/OL', 'AT1', 'NOPMT',\n",
       "       'NO PMT', 'U/G', 'I/F OF', 'AT/EB', 'S.S', 'NR S/S', 'M/G PKG',\n",
       "       '250', '#22', '#20', 'N/W END', '#47', '#49', '#38', '#14', '400 ',\n",
       "       'NEA', '52#', 'AAT', 'OPPW/S', 'P', 'R-5', 'B2 222', 'SPT NO6-7',\n",
       "       '10 ', 'PKG SPT4-2', 'E/S E', '3636'], dtype=object)"
      ]
     },
     "execution_count": 9,
     "metadata": {},
     "output_type": "execute_result"
    }
   ],
   "source": [
    "# Proxomity\n",
    "data[\"location1\"].unique()"
   ]
  },
  {
   "cell_type": "markdown",
   "metadata": {},
   "source": [
    "By looking at location1 data points we can observe the following:\n",
    "* There is no consistant use of proxomity codes and the other data oints are not descriptive enough (i.e., building number). There is a lot of noise as a result.\n",
    "* we can conclude that location1 variable might be discared as well for the analysis.\\\n",
    "\n",
    "Similarly, let's look at location2 iunique values."
   ]
  },
  {
   "cell_type": "code",
   "execution_count": 10,
   "metadata": {},
   "outputs": [
    {
     "data": {
      "text/plain": [
       "array(['4700 JANE ST', '573 CLENDENAN AVE', '21 MARIA ST', ...,\n",
       "       '70 BAY ST', '8 GOD STONE RD', '245 WAVERLEY RD'], dtype=object)"
      ]
     },
     "execution_count": 10,
     "metadata": {},
     "output_type": "execute_result"
    }
   ],
   "source": [
    "# Street names\n",
    "data[\"location2\"].unique()"
   ]
  },
  {
   "cell_type": "markdown",
   "metadata": {},
   "source": [
    "While location2 variable has a tramendous number of unique values, we can observe the following,\n",
    "* By some text processing we can seperate street names and have more useful form of data with less noise.\\\n",
    "\n",
    "Now let's move on to our last categorical variables: vehicle plate province.\\\n",
    "Here we look at the distribution by percentage for the top 15 province."
   ]
  },
  {
   "cell_type": "code",
   "execution_count": 11,
   "metadata": {},
   "outputs": [
    {
     "name": "stdout",
     "output_type": "stream",
     "text": [
      "Percentage ditribution of vehicles plates' provinces:\n"
     ]
    },
    {
     "data": {
      "text/html": [
       "<div>\n",
       "<style scoped>\n",
       "    .dataframe tbody tr th:only-of-type {\n",
       "        vertical-align: middle;\n",
       "    }\n",
       "\n",
       "    .dataframe tbody tr th {\n",
       "        vertical-align: top;\n",
       "    }\n",
       "\n",
       "    .dataframe thead th {\n",
       "        text-align: right;\n",
       "    }\n",
       "</style>\n",
       "<table border=\"1\" class=\"dataframe\">\n",
       "  <thead>\n",
       "    <tr style=\"text-align: right;\">\n",
       "      <th>col_0</th>\n",
       "      <th>count</th>\n",
       "    </tr>\n",
       "    <tr>\n",
       "      <th>province</th>\n",
       "      <th></th>\n",
       "    </tr>\n",
       "  </thead>\n",
       "  <tbody>\n",
       "    <tr>\n",
       "      <th>ON</th>\n",
       "      <td>96.72</td>\n",
       "    </tr>\n",
       "    <tr>\n",
       "      <th>QC</th>\n",
       "      <td>1.43</td>\n",
       "    </tr>\n",
       "    <tr>\n",
       "      <th>AB</th>\n",
       "      <td>0.31</td>\n",
       "    </tr>\n",
       "    <tr>\n",
       "      <th>AZ</th>\n",
       "      <td>0.21</td>\n",
       "    </tr>\n",
       "    <tr>\n",
       "      <th>NS</th>\n",
       "      <td>0.15</td>\n",
       "    </tr>\n",
       "    <tr>\n",
       "      <th>BC</th>\n",
       "      <td>0.13</td>\n",
       "    </tr>\n",
       "    <tr>\n",
       "      <th>PQ</th>\n",
       "      <td>0.13</td>\n",
       "    </tr>\n",
       "    <tr>\n",
       "      <th>MB</th>\n",
       "      <td>0.12</td>\n",
       "    </tr>\n",
       "    <tr>\n",
       "      <th>NY</th>\n",
       "      <td>0.12</td>\n",
       "    </tr>\n",
       "    <tr>\n",
       "      <th>SK</th>\n",
       "      <td>0.06</td>\n",
       "    </tr>\n",
       "    <tr>\n",
       "      <th>MI</th>\n",
       "      <td>0.06</td>\n",
       "    </tr>\n",
       "    <tr>\n",
       "      <th>NB</th>\n",
       "      <td>0.06</td>\n",
       "    </tr>\n",
       "    <tr>\n",
       "      <th>FL</th>\n",
       "      <td>0.05</td>\n",
       "    </tr>\n",
       "    <tr>\n",
       "      <th>OH</th>\n",
       "      <td>0.04</td>\n",
       "    </tr>\n",
       "    <tr>\n",
       "      <th>PA</th>\n",
       "      <td>0.04</td>\n",
       "    </tr>\n",
       "  </tbody>\n",
       "</table>\n",
       "</div>"
      ],
      "text/plain": [
       "col_0     count\n",
       "province       \n",
       "ON        96.72\n",
       "QC         1.43\n",
       "AB         0.31\n",
       "AZ         0.21\n",
       "NS         0.15\n",
       "BC         0.13\n",
       "PQ         0.13\n",
       "MB         0.12\n",
       "NY         0.12\n",
       "SK         0.06\n",
       "MI         0.06\n",
       "NB         0.06\n",
       "FL         0.05\n",
       "OH         0.04\n",
       "PA         0.04"
      ]
     },
     "execution_count": 11,
     "metadata": {},
     "output_type": "execute_result"
    }
   ],
   "source": [
    "x = pd.crosstab(index=data['province'], columns='count').nlargest(15,'count')\n",
    "x = prob(x)\n",
    "print(\"Percentage ditribution of vehicles plates' provinces:\")\n",
    "x"
   ]
  },
  {
   "cell_type": "markdown",
   "metadata": {},
   "source": [
    "We can observe the following,  \n",
    "* The province variable data is heavily unbalanced as > 95% of it are ON plates.\n",
    "* As a result, we can investigate ON vs. outside-ON for more practical and meaningful analysis."
   ]
  },
  {
   "cell_type": "markdown",
   "metadata": {},
   "source": [
    "### 3. Feature Selection, Data Cleaning, and Processing"
   ]
  },
  {
   "cell_type": "markdown",
   "metadata": {},
   "source": [
    "#### 3.1 Feature Selection\n",
    "\n",
    "Based on understanding on the data in the previous section, we going te select most relevant and meangful features that can help us in our data analysis.\\\n",
    "As aresult we going to drop the following variables,\n",
    "* tag_number_masked\n",
    "* infraction_code\n",
    "* location1\n",
    "* location3\n",
    "* location4"
   ]
  },
  {
   "cell_type": "code",
   "execution_count": 12,
   "metadata": {},
   "outputs": [
    {
     "data": {
      "text/plain": [
       "Index(['tag_number_masked', 'date_of_infraction', 'infraction_code',\n",
       "       'infraction_description', 'set_fine_amount', 'time_of_infraction',\n",
       "       'location1', 'location2', 'location3', 'location4', 'province'],\n",
       "      dtype='object')"
      ]
     },
     "execution_count": 12,
     "metadata": {},
     "output_type": "execute_result"
    }
   ],
   "source": [
    "# get columns indices\n",
    "data.columns"
   ]
  },
  {
   "cell_type": "code",
   "execution_count": 13,
   "metadata": {},
   "outputs": [
    {
     "data": {
      "text/html": [
       "<div>\n",
       "<style scoped>\n",
       "    .dataframe tbody tr th:only-of-type {\n",
       "        vertical-align: middle;\n",
       "    }\n",
       "\n",
       "    .dataframe tbody tr th {\n",
       "        vertical-align: top;\n",
       "    }\n",
       "\n",
       "    .dataframe thead th {\n",
       "        text-align: right;\n",
       "    }\n",
       "</style>\n",
       "<table border=\"1\" class=\"dataframe\">\n",
       "  <thead>\n",
       "    <tr style=\"text-align: right;\">\n",
       "      <th></th>\n",
       "      <th>date_of_infraction</th>\n",
       "      <th>infraction_description</th>\n",
       "      <th>set_fine_amount</th>\n",
       "      <th>time_of_infraction</th>\n",
       "      <th>location2</th>\n",
       "      <th>province</th>\n",
       "    </tr>\n",
       "  </thead>\n",
       "  <tbody>\n",
       "    <tr>\n",
       "      <th>0</th>\n",
       "      <td>20200101</td>\n",
       "      <td>PARK ON PRIVATE PROPERTY</td>\n",
       "      <td>30</td>\n",
       "      <td>1.0</td>\n",
       "      <td>4700 JANE ST</td>\n",
       "      <td>SK</td>\n",
       "    </tr>\n",
       "    <tr>\n",
       "      <th>1</th>\n",
       "      <td>20200101</td>\n",
       "      <td>PARK PROHIBITED TIME NO PERMIT</td>\n",
       "      <td>30</td>\n",
       "      <td>2.0</td>\n",
       "      <td>573 CLENDENAN AVE</td>\n",
       "      <td>ON</td>\n",
       "    </tr>\n",
       "    <tr>\n",
       "      <th>2</th>\n",
       "      <td>20200101</td>\n",
       "      <td>PARK PROHIBITED TIME NO PERMIT</td>\n",
       "      <td>30</td>\n",
       "      <td>2.0</td>\n",
       "      <td>573 CLENDENAN AVE</td>\n",
       "      <td>ON</td>\n",
       "    </tr>\n",
       "    <tr>\n",
       "      <th>3</th>\n",
       "      <td>20200101</td>\n",
       "      <td>PARK PROHIBITED TIME NO PERMIT</td>\n",
       "      <td>30</td>\n",
       "      <td>4.0</td>\n",
       "      <td>21 MARIA ST</td>\n",
       "      <td>ON</td>\n",
       "    </tr>\n",
       "    <tr>\n",
       "      <th>4</th>\n",
       "      <td>20200101</td>\n",
       "      <td>PARK PROHIBITED TIME NO PERMIT</td>\n",
       "      <td>30</td>\n",
       "      <td>4.0</td>\n",
       "      <td>164 GLENHOLME AVE</td>\n",
       "      <td>ON</td>\n",
       "    </tr>\n",
       "  </tbody>\n",
       "</table>\n",
       "</div>"
      ],
      "text/plain": [
       "   date_of_infraction          infraction_description  set_fine_amount  \\\n",
       "0            20200101        PARK ON PRIVATE PROPERTY               30   \n",
       "1            20200101  PARK PROHIBITED TIME NO PERMIT               30   \n",
       "2            20200101  PARK PROHIBITED TIME NO PERMIT               30   \n",
       "3            20200101  PARK PROHIBITED TIME NO PERMIT               30   \n",
       "4            20200101  PARK PROHIBITED TIME NO PERMIT               30   \n",
       "\n",
       "   time_of_infraction          location2 province  \n",
       "0                 1.0       4700 JANE ST       SK  \n",
       "1                 2.0  573 CLENDENAN AVE       ON  \n",
       "2                 2.0  573 CLENDENAN AVE       ON  \n",
       "3                 4.0        21 MARIA ST       ON  \n",
       "4                 4.0  164 GLENHOLME AVE       ON  "
      ]
     },
     "execution_count": 13,
     "metadata": {},
     "output_type": "execute_result"
    }
   ],
   "source": [
    "# Feature Selction\n",
    "data = data.drop(data.columns[[0, 2, 6, 8, 9]], axis=1)\n",
    "data.head()"
   ]
  },
  {
   "cell_type": "markdown",
   "metadata": {},
   "source": [
    "Here after reducing our data to only with the variables selected for our analysis.\\\n",
    "\n",
    "Now let's rename our data variables names to easy to remember and code names for a faster and more effective coding."
   ]
  },
  {
   "cell_type": "code",
   "execution_count": 14,
   "metadata": {},
   "outputs": [
    {
     "data": {
      "text/html": [
       "<div>\n",
       "<style scoped>\n",
       "    .dataframe tbody tr th:only-of-type {\n",
       "        vertical-align: middle;\n",
       "    }\n",
       "\n",
       "    .dataframe tbody tr th {\n",
       "        vertical-align: top;\n",
       "    }\n",
       "\n",
       "    .dataframe thead th {\n",
       "        text-align: right;\n",
       "    }\n",
       "</style>\n",
       "<table border=\"1\" class=\"dataframe\">\n",
       "  <thead>\n",
       "    <tr style=\"text-align: right;\">\n",
       "      <th></th>\n",
       "      <th>DATE</th>\n",
       "      <th>DESC</th>\n",
       "      <th>FA</th>\n",
       "      <th>TIME</th>\n",
       "      <th>ADDRESS</th>\n",
       "      <th>PROV</th>\n",
       "    </tr>\n",
       "  </thead>\n",
       "  <tbody>\n",
       "    <tr>\n",
       "      <th>0</th>\n",
       "      <td>20200101</td>\n",
       "      <td>PARK ON PRIVATE PROPERTY</td>\n",
       "      <td>30</td>\n",
       "      <td>1.0</td>\n",
       "      <td>4700 JANE ST</td>\n",
       "      <td>SK</td>\n",
       "    </tr>\n",
       "    <tr>\n",
       "      <th>1</th>\n",
       "      <td>20200101</td>\n",
       "      <td>PARK PROHIBITED TIME NO PERMIT</td>\n",
       "      <td>30</td>\n",
       "      <td>2.0</td>\n",
       "      <td>573 CLENDENAN AVE</td>\n",
       "      <td>ON</td>\n",
       "    </tr>\n",
       "    <tr>\n",
       "      <th>2</th>\n",
       "      <td>20200101</td>\n",
       "      <td>PARK PROHIBITED TIME NO PERMIT</td>\n",
       "      <td>30</td>\n",
       "      <td>2.0</td>\n",
       "      <td>573 CLENDENAN AVE</td>\n",
       "      <td>ON</td>\n",
       "    </tr>\n",
       "    <tr>\n",
       "      <th>3</th>\n",
       "      <td>20200101</td>\n",
       "      <td>PARK PROHIBITED TIME NO PERMIT</td>\n",
       "      <td>30</td>\n",
       "      <td>4.0</td>\n",
       "      <td>21 MARIA ST</td>\n",
       "      <td>ON</td>\n",
       "    </tr>\n",
       "    <tr>\n",
       "      <th>4</th>\n",
       "      <td>20200101</td>\n",
       "      <td>PARK PROHIBITED TIME NO PERMIT</td>\n",
       "      <td>30</td>\n",
       "      <td>4.0</td>\n",
       "      <td>164 GLENHOLME AVE</td>\n",
       "      <td>ON</td>\n",
       "    </tr>\n",
       "  </tbody>\n",
       "</table>\n",
       "</div>"
      ],
      "text/plain": [
       "       DATE                            DESC  FA  TIME            ADDRESS PROV\n",
       "0  20200101        PARK ON PRIVATE PROPERTY  30   1.0       4700 JANE ST   SK\n",
       "1  20200101  PARK PROHIBITED TIME NO PERMIT  30   2.0  573 CLENDENAN AVE   ON\n",
       "2  20200101  PARK PROHIBITED TIME NO PERMIT  30   2.0  573 CLENDENAN AVE   ON\n",
       "3  20200101  PARK PROHIBITED TIME NO PERMIT  30   4.0        21 MARIA ST   ON\n",
       "4  20200101  PARK PROHIBITED TIME NO PERMIT  30   4.0  164 GLENHOLME AVE   ON"
      ]
     },
     "execution_count": 14,
     "metadata": {},
     "output_type": "execute_result"
    }
   ],
   "source": [
    "data.rename(columns = {'date_of_infraction':'DATE', 'infraction_description':'DESC', 'set_fine_amount':'FA', 'time_of_infraction':'TIME',\n",
    "'location2':'ADDRESS', 'province':'PROV' }, inplace = True)\n",
    "data.head()"
   ]
  },
  {
   "cell_type": "markdown",
   "metadata": {},
   "source": [
    "#### 3.2 Data Cleaning\n",
    "\n",
    "Now let's clean our data from nul/na and/or illogical data points as per our investigation in section 1.\n",
    "\n",
    "First, let's have a nother look at the null/na vaules of the selected variables."
   ]
  },
  {
   "cell_type": "code",
   "execution_count": 15,
   "metadata": {},
   "outputs": [
    {
     "name": "stdout",
     "output_type": "stream",
     "text": [
      "Percentage of null values in data: \n"
     ]
    },
    {
     "data": {
      "text/plain": [
       "DATE       0.00\n",
       "DESC       0.00\n",
       "FA         0.00\n",
       "TIME       0.09\n",
       "ADDRESS    0.01\n",
       "PROV       0.00\n",
       "dtype: float64"
      ]
     },
     "execution_count": 15,
     "metadata": {},
     "output_type": "execute_result"
    }
   ],
   "source": [
    "x = prob(data.isnull().sum())\n",
    "print(\"Percentage of null values in data: \")\n",
    "x"
   ]
  },
  {
   "cell_type": "markdown",
   "metadata": {},
   "source": [
    "We can find that nul/na data points are ~ 0.1% at its maximum for the TIME variable. Therefoer, we can drop this data points without having an impact on the accuracy of our data analysis. \n",
    "\n",
    "Similarly, we will clean the dataset from iilogical data points, such as TIME > 24:00.\n",
    "\n",
    "Lastly, having fractions of fine amounts near or equal to zero should reflect noise/false data input. As a result, these data ponts will be droped as well."
   ]
  },
  {
   "cell_type": "code",
   "execution_count": 16,
   "metadata": {},
   "outputs": [],
   "source": [
    "# drop na data and zeros\n",
    "data = data[data.loc[:]!=0].dropna()\n",
    "\n",
    "# dorp time > 24:00\n",
    "data = data[(data.TIME <= 2400)]\n",
    "\n",
    "# drop whre FA = 0\n",
    "data = data[(data.FA > 1)]"
   ]
  },
  {
   "cell_type": "markdown",
   "metadata": {},
   "source": [
    "Now let's check if the data cleaning was done successfully."
   ]
  },
  {
   "cell_type": "code",
   "execution_count": 17,
   "metadata": {},
   "outputs": [
    {
     "name": "stdout",
     "output_type": "stream",
     "text": [
      "Percentage of null values in data: \n"
     ]
    },
    {
     "data": {
      "text/plain": [
       "DATE       0.0\n",
       "DESC       0.0\n",
       "FA         0.0\n",
       "TIME       0.0\n",
       "ADDRESS    0.0\n",
       "PROV       0.0\n",
       "dtype: float64"
      ]
     },
     "metadata": {},
     "output_type": "display_data"
    }
   ],
   "source": [
    "# Check nul/na values\n",
    "x = prob(data.isnull().sum())\n",
    "print(\"Percentage of null values in data: \")\n",
    "display(x)"
   ]
  },
  {
   "cell_type": "code",
   "execution_count": 18,
   "metadata": {},
   "outputs": [
    {
     "data": {
      "text/html": [
       "<div>\n",
       "<style scoped>\n",
       "    .dataframe tbody tr th:only-of-type {\n",
       "        vertical-align: middle;\n",
       "    }\n",
       "\n",
       "    .dataframe tbody tr th {\n",
       "        vertical-align: top;\n",
       "    }\n",
       "\n",
       "    .dataframe thead th {\n",
       "        text-align: right;\n",
       "    }\n",
       "</style>\n",
       "<table border=\"1\" class=\"dataframe\">\n",
       "  <thead>\n",
       "    <tr style=\"text-align: right;\">\n",
       "      <th></th>\n",
       "      <th>DATE</th>\n",
       "      <th>FA</th>\n",
       "      <th>TIME</th>\n",
       "    </tr>\n",
       "  </thead>\n",
       "  <tbody>\n",
       "    <tr>\n",
       "      <th>count</th>\n",
       "      <td>1,401,840</td>\n",
       "      <td>1,401,840</td>\n",
       "      <td>1,401,840</td>\n",
       "    </tr>\n",
       "    <tr>\n",
       "      <th>mean</th>\n",
       "      <td>20,200,679</td>\n",
       "      <td>50</td>\n",
       "      <td>1,137</td>\n",
       "    </tr>\n",
       "    <tr>\n",
       "      <th>std</th>\n",
       "      <td>384</td>\n",
       "      <td>48</td>\n",
       "      <td>602</td>\n",
       "    </tr>\n",
       "    <tr>\n",
       "      <th>min</th>\n",
       "      <td>20,200,101</td>\n",
       "      <td>15</td>\n",
       "      <td>1</td>\n",
       "    </tr>\n",
       "    <tr>\n",
       "      <th>25%</th>\n",
       "      <td>20,200,228</td>\n",
       "      <td>30</td>\n",
       "      <td>732</td>\n",
       "    </tr>\n",
       "    <tr>\n",
       "      <th>50%</th>\n",
       "      <td>20,200,810</td>\n",
       "      <td>30</td>\n",
       "      <td>1,200</td>\n",
       "    </tr>\n",
       "    <tr>\n",
       "      <th>75%</th>\n",
       "      <td>20,201,015</td>\n",
       "      <td>50</td>\n",
       "      <td>1,604</td>\n",
       "    </tr>\n",
       "    <tr>\n",
       "      <th>max</th>\n",
       "      <td>20,201,231</td>\n",
       "      <td>450</td>\n",
       "      <td>2,359</td>\n",
       "    </tr>\n",
       "  </tbody>\n",
       "</table>\n",
       "</div>"
      ],
      "text/plain": [
       "             DATE         FA       TIME\n",
       "count   1,401,840  1,401,840  1,401,840\n",
       "mean   20,200,679         50      1,137\n",
       "std           384         48        602\n",
       "min    20,200,101         15          1\n",
       "25%    20,200,228         30        732\n",
       "50%    20,200,810         30      1,200\n",
       "75%    20,201,015         50      1,604\n",
       "max    20,201,231        450      2,359"
      ]
     },
     "execution_count": 18,
     "metadata": {},
     "output_type": "execute_result"
    }
   ],
   "source": [
    "# check numerical variables: TIME and FA\n",
    "data.describe().applymap('{:,.0f}'.format)"
   ]
  },
  {
   "cell_type": "markdown",
   "metadata": {},
   "source": [
    "We can find that now we have no nul/na data points nor FA = 0 nor TIME > 24:00. Mission accomplished!\\\n",
    "\n",
    "However, before moving to the next step to do some data processing. It's important to check the amount of data we have dropped relative to the original data size. That's to make sure we have not done any excessive data cleaning."
   ]
  },
  {
   "cell_type": "code",
   "execution_count": 19,
   "metadata": {},
   "outputs": [
    {
     "name": "stdout",
     "output_type": "stream",
     "text": [
      "Precentage of Discarded Data= 0.13 %\n"
     ]
    }
   ],
   "source": [
    "# check precentage of dropped data\n",
    "d = (data_len_0-len(data))*100/data_len_0\n",
    "print(\"Precentage of Discarded Data= \"+str(round(d ,2))+\" %\")"
   ]
  },
  {
   "cell_type": "markdown",
   "metadata": {},
   "source": [
    "That's great we had to only drop 0.13% of our data which is an insignificant amount that won't affect our data analysis accuracy.\n",
    "\n",
    "Now let's move to the last step before starting our data analysis which is doing some data processing that will help us in our analysis."
   ]
  },
  {
   "cell_type": "markdown",
   "metadata": {},
   "source": [
    "#### 3.3 Data Processing\n",
    "\n",
    "Here we are going to process some of the data variables so that we turn them into a form that is easier and more useful for us to use in our data analysis.\n",
    "For example, we are going to do the following,\n",
    "* Change TIME variable data points from HR:MIN real numbers distribution format to a discrete distribution that only consists of 24 values of hrs from 0 to 23.\n",
    "* Combine all non-ON data points for the PROV variable to only one category called \"outside-ON\", since all non-ON data points account for less than 3.5% of all data points.\n",
    "* Convert the MONTH variable data points format from real number distribution to categories of the 12 months of the year (Jan. to Dec.)\n",
    "* Extract street names from ADDRESS variable and discard the other unnecessary information (i.e., bldg/block number)."
   ]
  },
  {
   "cell_type": "code",
   "execution_count": 20,
   "metadata": {},
   "outputs": [],
   "source": [
    "# Convert Time data to intervals\n",
    "data[\"TIME\"] = data[\"TIME\"]/100\n",
    "data[\"TIME\"] = data[\"TIME\"].astype(int)\n",
    "\n",
    "# Group Province.\n",
    "data[\"PROVG\"] = data[\"PROV\"].where(data[\"PROV\"] == 'ON', 'outside-ON')\n",
    "\n",
    "# Add Months column\n",
    "data['MONTH_NUM'] = pd.to_datetime(data['DATE'],format='%Y%m%d').dt.month\n",
    "data['MONTH'] = data['MONTH_NUM'].apply(lambda x: calendar.month_abbr[x])\n",
    "\n",
    "# Extract Street names\n",
    "data[\"ST\"] = data[\"ADDRESS\"].str.replace('\\d+', '')"
   ]
  },
  {
   "cell_type": "markdown",
   "metadata": {},
   "source": [
    "After proccessing our data variables and appending our data with the newly introduced forms of variables, let's drop the original variables. While this step is not necessary but it's better to minimize the amount of unnecessary amount of data and memory as much as possible."
   ]
  },
  {
   "cell_type": "code",
   "execution_count": 21,
   "metadata": {},
   "outputs": [
    {
     "data": {
      "text/html": [
       "<div>\n",
       "<style scoped>\n",
       "    .dataframe tbody tr th:only-of-type {\n",
       "        vertical-align: middle;\n",
       "    }\n",
       "\n",
       "    .dataframe tbody tr th {\n",
       "        vertical-align: top;\n",
       "    }\n",
       "\n",
       "    .dataframe thead th {\n",
       "        text-align: right;\n",
       "    }\n",
       "</style>\n",
       "<table border=\"1\" class=\"dataframe\">\n",
       "  <thead>\n",
       "    <tr style=\"text-align: right;\">\n",
       "      <th></th>\n",
       "      <th>DESC</th>\n",
       "      <th>FA</th>\n",
       "      <th>TIME</th>\n",
       "      <th>PROVG</th>\n",
       "      <th>MONTH</th>\n",
       "      <th>ST</th>\n",
       "    </tr>\n",
       "  </thead>\n",
       "  <tbody>\n",
       "    <tr>\n",
       "      <th>0</th>\n",
       "      <td>PARK ON PRIVATE PROPERTY</td>\n",
       "      <td>30.0</td>\n",
       "      <td>0</td>\n",
       "      <td>outside-ON</td>\n",
       "      <td>Jan</td>\n",
       "      <td>JANE ST</td>\n",
       "    </tr>\n",
       "    <tr>\n",
       "      <th>1</th>\n",
       "      <td>PARK PROHIBITED TIME NO PERMIT</td>\n",
       "      <td>30.0</td>\n",
       "      <td>0</td>\n",
       "      <td>ON</td>\n",
       "      <td>Jan</td>\n",
       "      <td>CLENDENAN AVE</td>\n",
       "    </tr>\n",
       "    <tr>\n",
       "      <th>2</th>\n",
       "      <td>PARK PROHIBITED TIME NO PERMIT</td>\n",
       "      <td>30.0</td>\n",
       "      <td>0</td>\n",
       "      <td>ON</td>\n",
       "      <td>Jan</td>\n",
       "      <td>CLENDENAN AVE</td>\n",
       "    </tr>\n",
       "    <tr>\n",
       "      <th>3</th>\n",
       "      <td>PARK PROHIBITED TIME NO PERMIT</td>\n",
       "      <td>30.0</td>\n",
       "      <td>0</td>\n",
       "      <td>ON</td>\n",
       "      <td>Jan</td>\n",
       "      <td>MARIA ST</td>\n",
       "    </tr>\n",
       "    <tr>\n",
       "      <th>4</th>\n",
       "      <td>PARK PROHIBITED TIME NO PERMIT</td>\n",
       "      <td>30.0</td>\n",
       "      <td>0</td>\n",
       "      <td>ON</td>\n",
       "      <td>Jan</td>\n",
       "      <td>GLENHOLME AVE</td>\n",
       "    </tr>\n",
       "  </tbody>\n",
       "</table>\n",
       "</div>"
      ],
      "text/plain": [
       "                             DESC    FA  TIME       PROVG MONTH  \\\n",
       "0        PARK ON PRIVATE PROPERTY  30.0     0  outside-ON   Jan   \n",
       "1  PARK PROHIBITED TIME NO PERMIT  30.0     0          ON   Jan   \n",
       "2  PARK PROHIBITED TIME NO PERMIT  30.0     0          ON   Jan   \n",
       "3  PARK PROHIBITED TIME NO PERMIT  30.0     0          ON   Jan   \n",
       "4  PARK PROHIBITED TIME NO PERMIT  30.0     0          ON   Jan   \n",
       "\n",
       "               ST  \n",
       "0         JANE ST  \n",
       "1   CLENDENAN AVE  \n",
       "2   CLENDENAN AVE  \n",
       "3        MARIA ST  \n",
       "4   GLENHOLME AVE  "
      ]
     },
     "execution_count": 21,
     "metadata": {},
     "output_type": "execute_result"
    }
   ],
   "source": [
    "# Drop unneeded variables\n",
    "data = data.drop(['DATE', 'ADDRESS', 'PROV', 'MONTH_NUM'], axis = 1)\n",
    "\n",
    "# Have a final look at our data!\n",
    "data.head()"
   ]
  },
  {
   "cell_type": "markdown",
   "metadata": {},
   "source": [
    "Finally, data processing has been completed successfully!"
   ]
  },
  {
   "cell_type": "markdown",
   "metadata": {},
   "source": [
    "### 4. Data Analysis and Trends Investigation\n",
    "\n",
    "Now, it's time to analyze our data! Since the purpose of this EDA is to learn about the probability of getting a parking ticket in Toronto, our analysis will be focused on calculating, analyzing, and observing trends of the infraction occurrence rate/probabilities. \n",
    "\n",
    "First, let's analyze the probability of a vehicle being from Ontario or outside of it given the car did a parking infraction."
   ]
  },
  {
   "cell_type": "code",
   "execution_count": 22,
   "metadata": {},
   "outputs": [
    {
     "name": "stdout",
     "output_type": "stream",
     "text": [
      "Cumulative probability [%] = 100.0\n"
     ]
    },
    {
     "data": {
      "image/png": "[encoded data removed]",
      "text/plain": [
       "<Figure size 960x480 with 1 Axes>"
      ]
     },
     "metadata": {},
     "output_type": "display_data"
    },
    {
     "data": {
      "text/html": [
       "<div>\n",
       "<style scoped>\n",
       "    .dataframe tbody tr th:only-of-type {\n",
       "        vertical-align: middle;\n",
       "    }\n",
       "\n",
       "    .dataframe tbody tr th {\n",
       "        vertical-align: top;\n",
       "    }\n",
       "\n",
       "    .dataframe thead th {\n",
       "        text-align: right;\n",
       "    }\n",
       "</style>\n",
       "<table border=\"1\" class=\"dataframe\">\n",
       "  <thead>\n",
       "    <tr style=\"text-align: right;\">\n",
       "      <th></th>\n",
       "      <th>PROVG</th>\n",
       "      <th>count</th>\n",
       "      <th>probability</th>\n",
       "    </tr>\n",
       "  </thead>\n",
       "  <tbody>\n",
       "    <tr>\n",
       "      <th>0</th>\n",
       "      <td>ON</td>\n",
       "      <td>1355929</td>\n",
       "      <td>96.72</td>\n",
       "    </tr>\n",
       "    <tr>\n",
       "      <th>1</th>\n",
       "      <td>outside-ON</td>\n",
       "      <td>45911</td>\n",
       "      <td>3.28</td>\n",
       "    </tr>\n",
       "  </tbody>\n",
       "</table>\n",
       "</div>"
      ],
      "text/plain": [
       "        PROVG    count  probability\n",
       "0          ON  1355929        96.72\n",
       "1  outside-ON    45911         3.28"
      ]
     },
     "execution_count": 22,
     "metadata": {},
     "output_type": "execute_result"
    }
   ],
   "source": [
    "# Province Probability Summary\n",
    "PROVG = get_prob_df(data, \"PROVG\", \"PROVG\")\n",
    "plot_prob_bar_h(PROVG, \"PROVG\", color='skyblue', line_at=None, title=\"Infractions Occurrence Rate by Vehicle Plate Province\", var_label=\"Province\", tick_rot=None)\n",
    "PROVG"
   ]
  },
  {
   "cell_type": "markdown",
   "metadata": {},
   "source": [
    "We can find that there is nearly 97% probability for a vehicle to be from Ontario given it had a parking ticket in Ontario. It is worth mentioning that this probability is very high due to the fact that Toronto is in Ontario, and that the majority of cars in Toronto will have Ontario plates in the first place. However, we can expect from these results that there is no inherit bias to ticket cars from outside of Ontario.\n",
    "\n",
    "Second, we are going to analyze the probabilities of getting a certain fine amount in terms of dollars in Toronto given the car did a parking infraction."
   ]
  },
  {
   "cell_type": "code",
   "execution_count": 23,
   "metadata": {},
   "outputs": [
    {
     "name": "stdout",
     "output_type": "stream",
     "text": [
      "Cumulative probability [%] = 100.0\n"
     ]
    },
    {
     "data": {
      "image/png": "[encoded data removed]",
      "text/plain": [
       "<Figure size 960x480 with 1 Axes>"
      ]
     },
     "metadata": {},
     "output_type": "display_data"
    },
    {
     "data": {
      "text/html": [
       "<div>\n",
       "<style scoped>\n",
       "    .dataframe tbody tr th:only-of-type {\n",
       "        vertical-align: middle;\n",
       "    }\n",
       "\n",
       "    .dataframe tbody tr th {\n",
       "        vertical-align: top;\n",
       "    }\n",
       "\n",
       "    .dataframe thead th {\n",
       "        text-align: right;\n",
       "    }\n",
       "</style>\n",
       "<table border=\"1\" class=\"dataframe\">\n",
       "  <thead>\n",
       "    <tr style=\"text-align: right;\">\n",
       "      <th></th>\n",
       "      <th>FA</th>\n",
       "      <th>count</th>\n",
       "      <th>probability</th>\n",
       "    </tr>\n",
       "  </thead>\n",
       "  <tbody>\n",
       "    <tr>\n",
       "      <th>1</th>\n",
       "      <td>30.0</td>\n",
       "      <td>839536</td>\n",
       "      <td>59.89</td>\n",
       "    </tr>\n",
       "    <tr>\n",
       "      <th>2</th>\n",
       "      <td>40.0</td>\n",
       "      <td>117308</td>\n",
       "      <td>8.37</td>\n",
       "    </tr>\n",
       "    <tr>\n",
       "      <th>3</th>\n",
       "      <td>50.0</td>\n",
       "      <td>222055</td>\n",
       "      <td>15.84</td>\n",
       "    </tr>\n",
       "    <tr>\n",
       "      <th>5</th>\n",
       "      <td>60.0</td>\n",
       "      <td>7299</td>\n",
       "      <td>0.52</td>\n",
       "    </tr>\n",
       "    <tr>\n",
       "      <th>6</th>\n",
       "      <td>90.0</td>\n",
       "      <td>514</td>\n",
       "      <td>0.04</td>\n",
       "    </tr>\n",
       "    <tr>\n",
       "      <th>7</th>\n",
       "      <td>100.0</td>\n",
       "      <td>144972</td>\n",
       "      <td>10.34</td>\n",
       "    </tr>\n",
       "    <tr>\n",
       "      <th>8</th>\n",
       "      <td>150.0</td>\n",
       "      <td>49681</td>\n",
       "      <td>3.54</td>\n",
       "    </tr>\n",
       "    <tr>\n",
       "      <th>10</th>\n",
       "      <td>250.0</td>\n",
       "      <td>10476</td>\n",
       "      <td>0.75</td>\n",
       "    </tr>\n",
       "    <tr>\n",
       "      <th>11</th>\n",
       "      <td>300.0</td>\n",
       "      <td>132</td>\n",
       "      <td>0.01</td>\n",
       "    </tr>\n",
       "    <tr>\n",
       "      <th>12</th>\n",
       "      <td>450.0</td>\n",
       "      <td>9797</td>\n",
       "      <td>0.70</td>\n",
       "    </tr>\n",
       "  </tbody>\n",
       "</table>\n",
       "</div>"
      ],
      "text/plain": [
       "       FA   count  probability\n",
       "1    30.0  839536        59.89\n",
       "2    40.0  117308         8.37\n",
       "3    50.0  222055        15.84\n",
       "5    60.0    7299         0.52\n",
       "6    90.0     514         0.04\n",
       "7   100.0  144972        10.34\n",
       "8   150.0   49681         3.54\n",
       "10  250.0   10476         0.75\n",
       "11  300.0     132         0.01\n",
       "12  450.0    9797         0.70"
      ]
     },
     "execution_count": 23,
     "metadata": {},
     "output_type": "execute_result"
    }
   ],
   "source": [
    "# Fine Amount Probability Summary\n",
    "FA = get_prob_df(data, \"FA\", \"FA\", nlargest=10)\n",
    "FA = FA.sort_values(\"FA\", ascending=True)\n",
    "FA[\"FA\"] = FA[\"FA\"].astype(str)\n",
    "plot_prob_bar_h(FA, \"FA\", color='lightgreen', line_at=5, title=\"Infractions Occurrence Rate by Fine Amount\", var_label=\"Fine Amount [$]\", tick_rot=None)\n",
    "FA"
   ]
  },
  {
   "cell_type": "markdown",
   "metadata": {},
   "source": [
    "We can observe from the fine amount probabilities chart the following, \n",
    "* The vast majority of parking infractions have a ticket value of 30$, with 60% probability.\n",
    "* Ticket values of 50$ and 40$ come in the second and third places with probabilities near 16%, and 8% respectively.\n",
    "* Luckily, the probability of having a fine amount greater than 100$ when doing a parking infraction is only 5%. \n",
    "\n",
    "Third, let's discover what parking infractions categories are mostly fined! "
   ]
  },
  {
   "cell_type": "code",
   "execution_count": 24,
   "metadata": {},
   "outputs": [
    {
     "name": "stdout",
     "output_type": "stream",
     "text": [
      "Cumulative probability [%] = 91.9\n"
     ]
    },
    {
     "data": {
      "image/png": "[encoded data removed]",
      "text/plain": [
       "<Figure size 960x480 with 1 Axes>"
      ]
     },
     "metadata": {},
     "output_type": "display_data"
    },
    {
     "data": {
      "text/html": [
       "<div>\n",
       "<style scoped>\n",
       "    .dataframe tbody tr th:only-of-type {\n",
       "        vertical-align: middle;\n",
       "    }\n",
       "\n",
       "    .dataframe tbody tr th {\n",
       "        vertical-align: top;\n",
       "    }\n",
       "\n",
       "    .dataframe thead th {\n",
       "        text-align: right;\n",
       "    }\n",
       "</style>\n",
       "<table border=\"1\" class=\"dataframe\">\n",
       "  <thead>\n",
       "    <tr style=\"text-align: right;\">\n",
       "      <th></th>\n",
       "      <th>DESC</th>\n",
       "      <th>count</th>\n",
       "      <th>probability</th>\n",
       "    </tr>\n",
       "  </thead>\n",
       "  <tbody>\n",
       "    <tr>\n",
       "      <th>44</th>\n",
       "      <td>PARK ON PRIVATE PROPERTY</td>\n",
       "      <td>336994</td>\n",
       "      <td>24.04</td>\n",
       "    </tr>\n",
       "    <tr>\n",
       "      <th>35</th>\n",
       "      <td>PARK MACHINE-REQD FEE NOT PAID</td>\n",
       "      <td>215035</td>\n",
       "      <td>15.34</td>\n",
       "    </tr>\n",
       "    <tr>\n",
       "      <th>85</th>\n",
       "      <td>PARK-SIGNED HWY-PROHIBIT DY/TM</td>\n",
       "      <td>204577</td>\n",
       "      <td>14.59</td>\n",
       "    </tr>\n",
       "    <tr>\n",
       "      <th>52</th>\n",
       "      <td>PARK PROHIBITED TIME NO PERMIT</td>\n",
       "      <td>161695</td>\n",
       "      <td>11.53</td>\n",
       "    </tr>\n",
       "    <tr>\n",
       "      <th>137</th>\n",
       "      <td>STOP-SIGNED HWY-PROHIBIT TM/DY</td>\n",
       "      <td>69246</td>\n",
       "      <td>4.94</td>\n",
       "    </tr>\n",
       "    <tr>\n",
       "      <th>10</th>\n",
       "      <td>PARK - LONGER THAN 3 HOURS</td>\n",
       "      <td>67391</td>\n",
       "      <td>4.81</td>\n",
       "    </tr>\n",
       "    <tr>\n",
       "      <th>104</th>\n",
       "      <td>STAND VEH.-PROHIBIT TIME/DAY</td>\n",
       "      <td>43241</td>\n",
       "      <td>3.08</td>\n",
       "    </tr>\n",
       "    <tr>\n",
       "      <th>83</th>\n",
       "      <td>PARK-SIGNED HWY-EXC PERMT TIME</td>\n",
       "      <td>39759</td>\n",
       "      <td>2.84</td>\n",
       "    </tr>\n",
       "    <tr>\n",
       "      <th>43</th>\n",
       "      <td>PARK ON MUNICIPAL PROPERTY</td>\n",
       "      <td>38665</td>\n",
       "      <td>2.76</td>\n",
       "    </tr>\n",
       "    <tr>\n",
       "      <th>88</th>\n",
       "      <td>PARK-VEH. W/O VALID ONT PLATE</td>\n",
       "      <td>27656</td>\n",
       "      <td>1.97</td>\n",
       "    </tr>\n",
       "    <tr>\n",
       "      <th>78</th>\n",
       "      <td>PARK-N.YORK 2AM-6AM DEC1-MAR31</td>\n",
       "      <td>24079</td>\n",
       "      <td>1.72</td>\n",
       "    </tr>\n",
       "    <tr>\n",
       "      <th>136</th>\n",
       "      <td>STOP-SIGNED HIGHWAY-RUSH HOUR</td>\n",
       "      <td>19510</td>\n",
       "      <td>1.39</td>\n",
       "    </tr>\n",
       "    <tr>\n",
       "      <th>90</th>\n",
       "      <td>PARK-WITHIN 3M OF FIRE HYDRANT</td>\n",
       "      <td>16303</td>\n",
       "      <td>1.16</td>\n",
       "    </tr>\n",
       "    <tr>\n",
       "      <th>23</th>\n",
       "      <td>PARK COMMERC LOAD ZONE NOT LDG</td>\n",
       "      <td>13467</td>\n",
       "      <td>0.96</td>\n",
       "    </tr>\n",
       "    <tr>\n",
       "      <th>28</th>\n",
       "      <td>PARK IN A FIRE ROUTE</td>\n",
       "      <td>10476</td>\n",
       "      <td>0.75</td>\n",
       "    </tr>\n",
       "  </tbody>\n",
       "</table>\n",
       "</div>"
      ],
      "text/plain": [
       "                               DESC   count  probability\n",
       "44         PARK ON PRIVATE PROPERTY  336994        24.04\n",
       "35   PARK MACHINE-REQD FEE NOT PAID  215035        15.34\n",
       "85   PARK-SIGNED HWY-PROHIBIT DY/TM  204577        14.59\n",
       "52   PARK PROHIBITED TIME NO PERMIT  161695        11.53\n",
       "137  STOP-SIGNED HWY-PROHIBIT TM/DY   69246         4.94\n",
       "10       PARK - LONGER THAN 3 HOURS   67391         4.81\n",
       "104    STAND VEH.-PROHIBIT TIME/DAY   43241         3.08\n",
       "83   PARK-SIGNED HWY-EXC PERMT TIME   39759         2.84\n",
       "43       PARK ON MUNICIPAL PROPERTY   38665         2.76\n",
       "88    PARK-VEH. W/O VALID ONT PLATE   27656         1.97\n",
       "78   PARK-N.YORK 2AM-6AM DEC1-MAR31   24079         1.72\n",
       "136   STOP-SIGNED HIGHWAY-RUSH HOUR   19510         1.39\n",
       "90   PARK-WITHIN 3M OF FIRE HYDRANT   16303         1.16\n",
       "23   PARK COMMERC LOAD ZONE NOT LDG   13467         0.96\n",
       "28             PARK IN A FIRE ROUTE   10476         0.75"
      ]
     },
     "execution_count": 24,
     "metadata": {},
     "output_type": "execute_result"
    }
   ],
   "source": [
    "# Province Probability Summary\n",
    "DESC = get_prob_df(data, \"DESC\", \"DESC\", nlargest=15)\n",
    "plot_prob_bar_v(DESC, \"DESC\", color='skyblue', line_at=5, title=\"Infractions Occurrence Rate by Category\", var_label=\"Infraction Description\", tick_rot=90)\n",
    "DESC"
   ]
  },
  {
   "cell_type": "markdown",
   "metadata": {},
   "source": [
    "Among over 100 parking infractions, only the following 5 categories have over 70% of parking infractions tickets as per their calculated probabilities,\n",
    "* Park on private property\n",
    "* Park machine-req fee not paid\n",
    "* Park-signed hwy-prohibit daytime\n",
    "* Park porhibited time no permit\n",
    "* Stop-signed hwy-prohibit daytime\n",
    "\n",
    "By only avoiding these 5 parking infractions categories we tremendously reduce the likelihood of having a parking infraction ticket in Toronto.\\\n",
    "Moreover, by avoiding the top 15 parking infractions categories displayed in chart above, we eliminate over 90% of the likelihood of having a parking infraction ticket in Toronto.\n",
    "\n",
    "\n",
    "Forth, it's time to know what times of the year have higher probabilities of parking infractions in Toronto."
   ]
  },
  {
   "cell_type": "code",
   "execution_count": 25,
   "metadata": {},
   "outputs": [
    {
     "name": "stdout",
     "output_type": "stream",
     "text": [
      "Cumulative probability [%] = 100.0\n"
     ]
    },
    {
     "data": {
      "image/png": "[encoded data removed]",
      "text/plain": [
       "<Figure size 960x480 with 1 Axes>"
      ]
     },
     "metadata": {},
     "output_type": "display_data"
    },
    {
     "data": {
      "text/html": [
       "<div>\n",
       "<style scoped>\n",
       "    .dataframe tbody tr th:only-of-type {\n",
       "        vertical-align: middle;\n",
       "    }\n",
       "\n",
       "    .dataframe tbody tr th {\n",
       "        vertical-align: top;\n",
       "    }\n",
       "\n",
       "    .dataframe thead th {\n",
       "        text-align: right;\n",
       "    }\n",
       "</style>\n",
       "<table border=\"1\" class=\"dataframe\">\n",
       "  <thead>\n",
       "    <tr style=\"text-align: right;\">\n",
       "      <th></th>\n",
       "      <th>MONTH</th>\n",
       "      <th>count</th>\n",
       "      <th>probability</th>\n",
       "    </tr>\n",
       "  </thead>\n",
       "  <tbody>\n",
       "    <tr>\n",
       "      <th>4</th>\n",
       "      <td>Jan</td>\n",
       "      <td>189729</td>\n",
       "      <td>13.53</td>\n",
       "    </tr>\n",
       "    <tr>\n",
       "      <th>11</th>\n",
       "      <td>Sep</td>\n",
       "      <td>168649</td>\n",
       "      <td>12.03</td>\n",
       "    </tr>\n",
       "    <tr>\n",
       "      <th>3</th>\n",
       "      <td>Feb</td>\n",
       "      <td>167823</td>\n",
       "      <td>11.97</td>\n",
       "    </tr>\n",
       "    <tr>\n",
       "      <th>10</th>\n",
       "      <td>Oct</td>\n",
       "      <td>165851</td>\n",
       "      <td>11.83</td>\n",
       "    </tr>\n",
       "    <tr>\n",
       "      <th>9</th>\n",
       "      <td>Nov</td>\n",
       "      <td>149141</td>\n",
       "      <td>10.64</td>\n",
       "    </tr>\n",
       "    <tr>\n",
       "      <th>1</th>\n",
       "      <td>Aug</td>\n",
       "      <td>135132</td>\n",
       "      <td>9.64</td>\n",
       "    </tr>\n",
       "    <tr>\n",
       "      <th>7</th>\n",
       "      <td>Mar</td>\n",
       "      <td>130186</td>\n",
       "      <td>9.29</td>\n",
       "    </tr>\n",
       "    <tr>\n",
       "      <th>2</th>\n",
       "      <td>Dec</td>\n",
       "      <td>111616</td>\n",
       "      <td>7.96</td>\n",
       "    </tr>\n",
       "    <tr>\n",
       "      <th>5</th>\n",
       "      <td>Jul</td>\n",
       "      <td>102559</td>\n",
       "      <td>7.32</td>\n",
       "    </tr>\n",
       "    <tr>\n",
       "      <th>6</th>\n",
       "      <td>Jun</td>\n",
       "      <td>37785</td>\n",
       "      <td>2.70</td>\n",
       "    </tr>\n",
       "    <tr>\n",
       "      <th>8</th>\n",
       "      <td>May</td>\n",
       "      <td>25453</td>\n",
       "      <td>1.82</td>\n",
       "    </tr>\n",
       "    <tr>\n",
       "      <th>0</th>\n",
       "      <td>Apr</td>\n",
       "      <td>17916</td>\n",
       "      <td>1.28</td>\n",
       "    </tr>\n",
       "  </tbody>\n",
       "</table>\n",
       "</div>"
      ],
      "text/plain": [
       "   MONTH   count  probability\n",
       "4    Jan  189729        13.53\n",
       "11   Sep  168649        12.03\n",
       "3    Feb  167823        11.97\n",
       "10   Oct  165851        11.83\n",
       "9    Nov  149141        10.64\n",
       "1    Aug  135132         9.64\n",
       "7    Mar  130186         9.29\n",
       "2    Dec  111616         7.96\n",
       "5    Jul  102559         7.32\n",
       "6    Jun   37785         2.70\n",
       "8    May   25453         1.82\n",
       "0    Apr   17916         1.28"
      ]
     },
     "execution_count": 25,
     "metadata": {},
     "output_type": "execute_result"
    }
   ],
   "source": [
    "# Month Probability Summary\n",
    "MONTH = get_prob_df(data, \"MONTH\", \"MONTH\", nlargest=13)\n",
    "plot_prob_bar_v(MONTH, \"MONTH\", color='seashell', line_at=5, title=\"Infractions Occurrence Rate by Month\", var_label=\"Month\", tick_rot=None)\n",
    "MONTH"
   ]
  },
  {
   "cell_type": "markdown",
   "metadata": {},
   "source": [
    "We can observe from the above chart the follwoing probobailities distrubtion for the years' months,\n",
    "* Jan. to Mar. ~ 10 to 14%\n",
    "* Jul. to Dec. ~ 7 to 12%\n",
    "* Apr. to Jun. ~ 1 to 3%\n",
    "\n",
    "So it's obvious that the parking infractions are not evenly distributed over the year, where winter months Jan. to Mar. have the highest probability distribution while spring months Apr. to Jun. have the least probability distribution. Do want to have fun in Toronto with car parking stress free? Spring is the time!\n",
    "\n",
    "Fifth, let's discover which placeses in Toronto are to avoid to park in!"
   ]
  },
  {
   "cell_type": "code",
   "execution_count": 26,
   "metadata": {},
   "outputs": [
    {
     "name": "stdout",
     "output_type": "stream",
     "text": [
      "Cumulative probability [%] = 15.5\n"
     ]
    },
    {
     "data": {
      "image/png": "[encoded data removed]",
      "text/plain": [
       "<Figure size 960x480 with 1 Axes>"
      ]
     },
     "metadata": {},
     "output_type": "display_data"
    },
    {
     "data": {
      "text/html": [
       "<div>\n",
       "<style scoped>\n",
       "    .dataframe tbody tr th:only-of-type {\n",
       "        vertical-align: middle;\n",
       "    }\n",
       "\n",
       "    .dataframe tbody tr th {\n",
       "        vertical-align: top;\n",
       "    }\n",
       "\n",
       "    .dataframe thead th {\n",
       "        text-align: right;\n",
       "    }\n",
       "</style>\n",
       "<table border=\"1\" class=\"dataframe\">\n",
       "  <thead>\n",
       "    <tr style=\"text-align: right;\">\n",
       "      <th></th>\n",
       "      <th>ST</th>\n",
       "      <th>count</th>\n",
       "      <th>probability</th>\n",
       "    </tr>\n",
       "  </thead>\n",
       "  <tbody>\n",
       "    <tr>\n",
       "      <th>13457</th>\n",
       "      <td>YONGE ST</td>\n",
       "      <td>25229</td>\n",
       "      <td>1.80</td>\n",
       "    </tr>\n",
       "    <tr>\n",
       "      <th>9985</th>\n",
       "      <td>QUEEN ST W</td>\n",
       "      <td>24190</td>\n",
       "      <td>1.73</td>\n",
       "    </tr>\n",
       "    <tr>\n",
       "      <th>2009</th>\n",
       "      <td>BLOOR ST W</td>\n",
       "      <td>16592</td>\n",
       "      <td>1.18</td>\n",
       "    </tr>\n",
       "    <tr>\n",
       "      <th>4094</th>\n",
       "      <td>DUNDAS ST W</td>\n",
       "      <td>14163</td>\n",
       "      <td>1.01</td>\n",
       "    </tr>\n",
       "    <tr>\n",
       "      <th>3604</th>\n",
       "      <td>DANFORTH AVE</td>\n",
       "      <td>12965</td>\n",
       "      <td>0.92</td>\n",
       "    </tr>\n",
       "    <tr>\n",
       "      <th>9983</th>\n",
       "      <td>QUEEN ST E</td>\n",
       "      <td>10296</td>\n",
       "      <td>0.73</td>\n",
       "    </tr>\n",
       "    <tr>\n",
       "      <th>11511</th>\n",
       "      <td>ST CLAIR AVE W</td>\n",
       "      <td>10079</td>\n",
       "      <td>0.72</td>\n",
       "    </tr>\n",
       "    <tr>\n",
       "      <th>1612</th>\n",
       "      <td>BAYVIEW AVE</td>\n",
       "      <td>9835</td>\n",
       "      <td>0.70</td>\n",
       "    </tr>\n",
       "    <tr>\n",
       "      <th>7270</th>\n",
       "      <td>LAKE SHORE BLVD W</td>\n",
       "      <td>9170</td>\n",
       "      <td>0.65</td>\n",
       "    </tr>\n",
       "    <tr>\n",
       "      <th>3203</th>\n",
       "      <td>COLLEGE ST</td>\n",
       "      <td>8866</td>\n",
       "      <td>0.63</td>\n",
       "    </tr>\n",
       "    <tr>\n",
       "      <th>3497</th>\n",
       "      <td>CUMBERLAND ST</td>\n",
       "      <td>8512</td>\n",
       "      <td>0.61</td>\n",
       "    </tr>\n",
       "    <tr>\n",
       "      <th>11442</th>\n",
       "      <td>SPADINA AVE</td>\n",
       "      <td>8182</td>\n",
       "      <td>0.58</td>\n",
       "    </tr>\n",
       "    <tr>\n",
       "      <th>802</th>\n",
       "      <td>ADELAIDE ST W</td>\n",
       "      <td>8017</td>\n",
       "      <td>0.57</td>\n",
       "    </tr>\n",
       "    <tr>\n",
       "      <th>5159</th>\n",
       "      <td>FRONT ST W</td>\n",
       "      <td>7993</td>\n",
       "      <td>0.57</td>\n",
       "    </tr>\n",
       "    <tr>\n",
       "      <th>7020</th>\n",
       "      <td>KING ST W</td>\n",
       "      <td>7988</td>\n",
       "      <td>0.57</td>\n",
       "    </tr>\n",
       "    <tr>\n",
       "      <th>5647</th>\n",
       "      <td>GRAND TRUNK CRES</td>\n",
       "      <td>7964</td>\n",
       "      <td>0.57</td>\n",
       "    </tr>\n",
       "    <tr>\n",
       "      <th>13499</th>\n",
       "      <td>YORKVILLE AVE</td>\n",
       "      <td>7902</td>\n",
       "      <td>0.56</td>\n",
       "    </tr>\n",
       "    <tr>\n",
       "      <th>10376</th>\n",
       "      <td>RICHMOND ST W</td>\n",
       "      <td>6898</td>\n",
       "      <td>0.49</td>\n",
       "    </tr>\n",
       "    <tr>\n",
       "      <th>3044</th>\n",
       "      <td>CHURCH ST</td>\n",
       "      <td>6793</td>\n",
       "      <td>0.48</td>\n",
       "    </tr>\n",
       "    <tr>\n",
       "      <th>5155</th>\n",
       "      <td>FRONT ST E</td>\n",
       "      <td>6554</td>\n",
       "      <td>0.47</td>\n",
       "    </tr>\n",
       "  </tbody>\n",
       "</table>\n",
       "</div>"
      ],
      "text/plain": [
       "                       ST  count  probability\n",
       "13457            YONGE ST  25229         1.80\n",
       "9985           QUEEN ST W  24190         1.73\n",
       "2009           BLOOR ST W  16592         1.18\n",
       "4094          DUNDAS ST W  14163         1.01\n",
       "3604         DANFORTH AVE  12965         0.92\n",
       "9983           QUEEN ST E  10296         0.73\n",
       "11511      ST CLAIR AVE W  10079         0.72\n",
       "1612          BAYVIEW AVE   9835         0.70\n",
       "7270    LAKE SHORE BLVD W   9170         0.65\n",
       "3203           COLLEGE ST   8866         0.63\n",
       "3497        CUMBERLAND ST   8512         0.61\n",
       "11442         SPADINA AVE   8182         0.58\n",
       "802         ADELAIDE ST W   8017         0.57\n",
       "5159           FRONT ST W   7993         0.57\n",
       "7020            KING ST W   7988         0.57\n",
       "5647     GRAND TRUNK CRES   7964         0.57\n",
       "13499       YORKVILLE AVE   7902         0.56\n",
       "10376       RICHMOND ST W   6898         0.49\n",
       "3044            CHURCH ST   6793         0.48\n",
       "5155           FRONT ST E   6554         0.47"
      ]
     },
     "execution_count": 26,
     "metadata": {},
     "output_type": "execute_result"
    }
   ],
   "source": [
    "# Month Probability Summary\n",
    "ST = get_prob_df(data, \"ST\", \"ST\", nlargest=20)\n",
    "plot_prob_bar_v(ST, \"ST\", color='seashell', line_at=1, title=\"Infractions Occurrence Rate by Street\", var_label=\"Street Name\", tick_rot=90)\n",
    "ST"
   ]
  },
  {
   "cell_type": "markdown",
   "metadata": {},
   "source": [
    "As we can observe that, among thousands of streets in Toronto, the following are the top 5 streets that you need to avoid parking in while being in Toronto,\n",
    "* Young ST, probability = 1.8 %\n",
    "* QUEEN ST W, probability = 1.73 %\n",
    "* BLOOR ST W, probability = 1.18 %\n",
    "* DUNDAS ST W, probability = 1.01 %\n",
    "* DANFOTH AVE, probability = 0.92 %\n",
    "\n",
    "But what places should we look for to park our cars without stressting about having a ticket?\n",
    "\n",
    "Let's get a list of the top 100 streets in Toronto to look for to park your car, where it's rare to have a parking ticket in those streets - the probability is almost zero!"
   ]
  },
  {
   "cell_type": "code",
   "execution_count": 27,
   "metadata": {},
   "outputs": [
    {
     "data": {
      "text/html": [
       "<div>\n",
       "<style scoped>\n",
       "    .dataframe tbody tr th:only-of-type {\n",
       "        vertical-align: middle;\n",
       "    }\n",
       "\n",
       "    .dataframe tbody tr th {\n",
       "        vertical-align: top;\n",
       "    }\n",
       "\n",
       "    .dataframe thead th {\n",
       "        text-align: right;\n",
       "    }\n",
       "</style>\n",
       "<table border=\"1\" class=\"dataframe\">\n",
       "  <thead>\n",
       "    <tr style=\"text-align: right;\">\n",
       "      <th></th>\n",
       "      <th>ST</th>\n",
       "      <th>count</th>\n",
       "      <th>probability</th>\n",
       "    </tr>\n",
       "  </thead>\n",
       "  <tbody>\n",
       "    <tr>\n",
       "      <th>1</th>\n",
       "      <td></td>\n",
       "      <td>1</td>\n",
       "      <td>0.000071</td>\n",
       "    </tr>\n",
       "    <tr>\n",
       "      <th>137</th>\n",
       "      <td>KENSINGTON AVE</td>\n",
       "      <td>1</td>\n",
       "      <td>0.000071</td>\n",
       "    </tr>\n",
       "    <tr>\n",
       "      <th>136</th>\n",
       "      <td>KENASTON GDNS</td>\n",
       "      <td>1</td>\n",
       "      <td>0.000071</td>\n",
       "    </tr>\n",
       "    <tr>\n",
       "      <th>135</th>\n",
       "      <td>KEITH AVE</td>\n",
       "      <td>1</td>\n",
       "      <td>0.000071</td>\n",
       "    </tr>\n",
       "    <tr>\n",
       "      <th>133</th>\n",
       "      <td>JOSEPH DUGGAN RD</td>\n",
       "      <td>1</td>\n",
       "      <td>0.000071</td>\n",
       "    </tr>\n",
       "    <tr>\n",
       "      <th>...</th>\n",
       "      <td>...</td>\n",
       "      <td>...</td>\n",
       "      <td>...</td>\n",
       "    </tr>\n",
       "    <tr>\n",
       "      <th>51</th>\n",
       "      <td>COSBURN AVE</td>\n",
       "      <td>1</td>\n",
       "      <td>0.000071</td>\n",
       "    </tr>\n",
       "    <tr>\n",
       "      <th>49</th>\n",
       "      <td>COLONEL SAMUEL DR</td>\n",
       "      <td>1</td>\n",
       "      <td>0.000071</td>\n",
       "    </tr>\n",
       "    <tr>\n",
       "      <th>47</th>\n",
       "      <td>COLERIDGE AVE</td>\n",
       "      <td>1</td>\n",
       "      <td>0.000071</td>\n",
       "    </tr>\n",
       "    <tr>\n",
       "      <th>69</th>\n",
       "      <td>DUNKIRK RD</td>\n",
       "      <td>1</td>\n",
       "      <td>0.000071</td>\n",
       "    </tr>\n",
       "    <tr>\n",
       "      <th>183</th>\n",
       "      <td>PAPE AVE</td>\n",
       "      <td>1</td>\n",
       "      <td>0.000071</td>\n",
       "    </tr>\n",
       "  </tbody>\n",
       "</table>\n",
       "<p>100 rows × 3 columns</p>\n",
       "</div>"
      ],
      "text/plain": [
       "                      ST  count  probability\n",
       "1                             1     0.000071\n",
       "137       KENSINGTON AVE      1     0.000071\n",
       "136        KENASTON GDNS      1     0.000071\n",
       "135            KEITH AVE      1     0.000071\n",
       "133     JOSEPH DUGGAN RD      1     0.000071\n",
       "..                   ...    ...          ...\n",
       "51           COSBURN AVE      1     0.000071\n",
       "49     COLONEL SAMUEL DR      1     0.000071\n",
       "47         COLERIDGE AVE      1     0.000071\n",
       "69            DUNKIRK RD      1     0.000071\n",
       "183             PAPE AVE      1     0.000071\n",
       "\n",
       "[100 rows x 3 columns]"
      ]
     },
     "execution_count": 27,
     "metadata": {},
     "output_type": "execute_result"
    }
   ],
   "source": [
    "ST_low_prob = data.groupby(\"ST\")[\"ST\"].count().reset_index(name=\"count\").nsmallest(100,'count').sort_values('count', ascending=True)\n",
    "ST_low_prob['probability'] = ST_low_prob['count']*100/len(data)\n",
    "ST_low_prob"
   ]
  },
  {
   "cell_type": "markdown",
   "metadata": {},
   "source": [
    "Here you go, now you have the list of the top 100 streets in Toronto to look for to park your car in stress-free.\n",
    "\n",
    "Lastly, let's uncover trends between parking infractions tickes and the time of the day."
   ]
  },
  {
   "cell_type": "code",
   "execution_count": 28,
   "metadata": {},
   "outputs": [
    {
     "name": "stdout",
     "output_type": "stream",
     "text": [
      "Cumulative probability [%] = 100.0\n"
     ]
    },
    {
     "data": {
      "image/png": "[encoded data removed]",
      "text/plain": [
       "<Figure size 960x480 with 1 Axes>"
      ]
     },
     "metadata": {},
     "output_type": "display_data"
    },
    {
     "data": {
      "text/html": [
       "<div>\n",
       "<style scoped>\n",
       "    .dataframe tbody tr th:only-of-type {\n",
       "        vertical-align: middle;\n",
       "    }\n",
       "\n",
       "    .dataframe tbody tr th {\n",
       "        vertical-align: top;\n",
       "    }\n",
       "\n",
       "    .dataframe thead th {\n",
       "        text-align: right;\n",
       "    }\n",
       "</style>\n",
       "<table border=\"1\" class=\"dataframe\">\n",
       "  <thead>\n",
       "    <tr style=\"text-align: right;\">\n",
       "      <th></th>\n",
       "      <th>TIME</th>\n",
       "      <th>count</th>\n",
       "      <th>probability</th>\n",
       "    </tr>\n",
       "  </thead>\n",
       "  <tbody>\n",
       "    <tr>\n",
       "      <th>11</th>\n",
       "      <td>11</td>\n",
       "      <td>104113</td>\n",
       "      <td>7.43</td>\n",
       "    </tr>\n",
       "    <tr>\n",
       "      <th>13</th>\n",
       "      <td>13</td>\n",
       "      <td>100410</td>\n",
       "      <td>7.16</td>\n",
       "    </tr>\n",
       "    <tr>\n",
       "      <th>12</th>\n",
       "      <td>12</td>\n",
       "      <td>98928</td>\n",
       "      <td>7.06</td>\n",
       "    </tr>\n",
       "    <tr>\n",
       "      <th>9</th>\n",
       "      <td>9</td>\n",
       "      <td>84271</td>\n",
       "      <td>6.01</td>\n",
       "    </tr>\n",
       "    <tr>\n",
       "      <th>10</th>\n",
       "      <td>10</td>\n",
       "      <td>83678</td>\n",
       "      <td>5.97</td>\n",
       "    </tr>\n",
       "    <tr>\n",
       "      <th>3</th>\n",
       "      <td>3</td>\n",
       "      <td>78209</td>\n",
       "      <td>5.58</td>\n",
       "    </tr>\n",
       "    <tr>\n",
       "      <th>14</th>\n",
       "      <td>14</td>\n",
       "      <td>77004</td>\n",
       "      <td>5.49</td>\n",
       "    </tr>\n",
       "    <tr>\n",
       "      <th>2</th>\n",
       "      <td>2</td>\n",
       "      <td>70839</td>\n",
       "      <td>5.05</td>\n",
       "    </tr>\n",
       "    <tr>\n",
       "      <th>16</th>\n",
       "      <td>16</td>\n",
       "      <td>69963</td>\n",
       "      <td>4.99</td>\n",
       "    </tr>\n",
       "    <tr>\n",
       "      <th>15</th>\n",
       "      <td>15</td>\n",
       "      <td>69004</td>\n",
       "      <td>4.92</td>\n",
       "    </tr>\n",
       "    <tr>\n",
       "      <th>8</th>\n",
       "      <td>8</td>\n",
       "      <td>62052</td>\n",
       "      <td>4.43</td>\n",
       "    </tr>\n",
       "    <tr>\n",
       "      <th>17</th>\n",
       "      <td>17</td>\n",
       "      <td>61328</td>\n",
       "      <td>4.37</td>\n",
       "    </tr>\n",
       "    <tr>\n",
       "      <th>4</th>\n",
       "      <td>4</td>\n",
       "      <td>56020</td>\n",
       "      <td>4.00</td>\n",
       "    </tr>\n",
       "    <tr>\n",
       "      <th>20</th>\n",
       "      <td>20</td>\n",
       "      <td>53077</td>\n",
       "      <td>3.79</td>\n",
       "    </tr>\n",
       "    <tr>\n",
       "      <th>19</th>\n",
       "      <td>19</td>\n",
       "      <td>51171</td>\n",
       "      <td>3.65</td>\n",
       "    </tr>\n",
       "    <tr>\n",
       "      <th>18</th>\n",
       "      <td>18</td>\n",
       "      <td>50860</td>\n",
       "      <td>3.63</td>\n",
       "    </tr>\n",
       "    <tr>\n",
       "      <th>1</th>\n",
       "      <td>1</td>\n",
       "      <td>50162</td>\n",
       "      <td>3.58</td>\n",
       "    </tr>\n",
       "    <tr>\n",
       "      <th>0</th>\n",
       "      <td>0</td>\n",
       "      <td>45009</td>\n",
       "      <td>3.21</td>\n",
       "    </tr>\n",
       "    <tr>\n",
       "      <th>21</th>\n",
       "      <td>21</td>\n",
       "      <td>34700</td>\n",
       "      <td>2.48</td>\n",
       "    </tr>\n",
       "    <tr>\n",
       "      <th>7</th>\n",
       "      <td>7</td>\n",
       "      <td>33549</td>\n",
       "      <td>2.39</td>\n",
       "    </tr>\n",
       "    <tr>\n",
       "      <th>22</th>\n",
       "      <td>22</td>\n",
       "      <td>19666</td>\n",
       "      <td>1.40</td>\n",
       "    </tr>\n",
       "    <tr>\n",
       "      <th>5</th>\n",
       "      <td>5</td>\n",
       "      <td>16897</td>\n",
       "      <td>1.21</td>\n",
       "    </tr>\n",
       "    <tr>\n",
       "      <th>6</th>\n",
       "      <td>6</td>\n",
       "      <td>15771</td>\n",
       "      <td>1.13</td>\n",
       "    </tr>\n",
       "    <tr>\n",
       "      <th>23</th>\n",
       "      <td>23</td>\n",
       "      <td>15159</td>\n",
       "      <td>1.08</td>\n",
       "    </tr>\n",
       "  </tbody>\n",
       "</table>\n",
       "</div>"
      ],
      "text/plain": [
       "    TIME   count  probability\n",
       "11    11  104113         7.43\n",
       "13    13  100410         7.16\n",
       "12    12   98928         7.06\n",
       "9      9   84271         6.01\n",
       "10    10   83678         5.97\n",
       "3      3   78209         5.58\n",
       "14    14   77004         5.49\n",
       "2      2   70839         5.05\n",
       "16    16   69963         4.99\n",
       "15    15   69004         4.92\n",
       "8      8   62052         4.43\n",
       "17    17   61328         4.37\n",
       "4      4   56020         4.00\n",
       "20    20   53077         3.79\n",
       "19    19   51171         3.65\n",
       "18    18   50860         3.63\n",
       "1      1   50162         3.58\n",
       "0      0   45009         3.21\n",
       "21    21   34700         2.48\n",
       "7      7   33549         2.39\n",
       "22    22   19666         1.40\n",
       "5      5   16897         1.21\n",
       "6      6   15771         1.13\n",
       "23    23   15159         1.08"
      ]
     },
     "execution_count": 28,
     "metadata": {},
     "output_type": "execute_result"
    }
   ],
   "source": [
    "# Time of infraction probability\n",
    "TIME = get_prob_df(data, \"TIME\", \"TIME\", nlargest=None)\n",
    "plot_prob_bar_v(TIME, \"TIME\", color='lightgreen', line_at=1, title=\"Infractions Occurrence Rate by Time\", var_label=\"TIME [Hr]\", tick_rot=None)\n",
    "TIME"
   ]
  },
  {
   "cell_type": "markdown",
   "metadata": {},
   "source": [
    "We can observe the following from the parking infractions tickets distribution above,  \n",
    "* Parking infractions tickets distribution across the daytime has a bimodal distribution, where it peaks between 11:00 AM to 2:00 PM and 2:00 AM to 4:00 AM, by having probabilities that range from ~ 5.5% to 7.5% and ~ 4% to 5.5%, respectively per each hour.\n",
    "* The majority of the parking infractions tickets take place during day-time hours 8:00 AM to 8:00 PM, by having probabilities that range from ~ 4% to 7.5% per each hour.\n",
    "* The least hours where parking tickets occur are 5:00 AM to 7:00 AM and 10:00 PM to 00:00 AM, by having probabilities that range from ~ 1.1% to 1.2% and ~ 1.1% to 1.4%, respectively per each hour"
   ]
  },
  {
   "cell_type": "markdown",
   "metadata": {},
   "source": [
    "## 5. EDA Summary\n",
    "\n",
    "Here we present a summary of EDA performed for the Toronto parking tickets dataset for the year 2020. We analyzed the data with the purpose of learning about the probability of getting a parking ticket in Toronto. As a result, data has been explored and investigated to uncover trends across all dataset features. The uncovered probability trends are summarized for each data feature as follows,\n",
    "\n",
    "* **Vehicle Province:**\n",
    "    * We can find that there is nearly 97% probability for a vehicle to be from Ontario given it had a parking ticket in Ontario. \n",
    "    * It is worth mentioning that this probability is very high due to the fact that Toronto is in Ontario, and that the majority of cars in Toronto will have Ontario plates in the first place. \n",
    "    * However, we can expect from these results that there is no inherent bias to ticket cars from outside of Ontario.\n",
    "\n",
    "* **Fine Amount:**\n",
    "    * The vast majority of parking infractions have a ticket value of 30$, with a 60% probability.\n",
    "    * Ticket values of 50$ and 40$ come in the second and third places with probabilities near 16%, and 8% respectively.\n",
    "    * Luckily, the probability of having a fine amount greater than 100$ when doing a parking infraction is only 5%.\n",
    "\n",
    "\n",
    "* **Infraction Category:**\\\n",
    "Among over 100 parking infractions, only the following 5 categories have over 70% of parking infractions tickets as per their calculated probabilities,\n",
    "    * Park on private property\n",
    "    * Park machine-req fee not paid\n",
    "    * Park-signed hwy-prohibit daytime\n",
    "    * Park prohibited time no permit\n",
    "    * Stop-signed hwy-prohibit daytime\n",
    "\n",
    "    By only avoiding these 5 parking infractions categories we tremendously reduce the likelihood of having a parking infraction ticket in Toronto.\\\n",
    "    Moreover, by avoiding the top 15 parking infractions categories, we eliminate over 90% of the likelihood of having a parking infraction ticket in Toronto.\n",
    "\n",
    "* **Address:**\\\n",
    "Among thousands of streets in Toronto, the following are the top 5 streets that you need to avoid parking in while being in Toronto,\n",
    "    * Young ST, probability = 1.8 %\n",
    "    * QUEEN ST W, probability = 1.73 %\n",
    "    * BLOOR ST W, probability = 1.18 %\n",
    "    * DUNDAS ST W, probability = 1.01 %\n",
    "    *  DANFOTH AVE, probability = 0.92 %\n",
    "\n",
    "\n",
    "* **Year Time (Month):**\\\n",
    "The parking infractions are not evenly distributed over the year, where winter months Jan. to Mar. have the highest probability distribution while spring months Apr. to Jun. have the least probability distribution. The probability distribution is as follows,\n",
    "    * Jan. to Mar. ~ 10 to 14%\n",
    "    * Jul. to Dec. ~ 7 to 12%\n",
    "    * Apr. to Jun. ~ 1 to 3%\n",
    "\n",
    "\n",
    "* **Day Time:**\\\n",
    "Parking infractions ticktes distribution accros the day time has a bimodal distribution.\n",
    "    * Parking ticket's likelihood peaks between 11:00 AM to 2:00 PM and 2:00 AM to 4:00 AM, by having probabilities that range from ~ 5.5% to 7.5% and ~ 4% to 5.5%, respectively per hour.\n",
    "    * The majority of the parking infractions tickets take place during day-time hours 8:00 AM to 8:00 PM, by having probabilities that range from ~ 4% to 7.5% per each hour.\n",
    "    * The least hours where parking tickets occur are 5:00 AM to 7:00 AM and 10:00 PM to 00:00 AM, by having probabilities that range from ~ 1.1% to 1.2% and ~ 1.1% to 1.4%, respectively per each hour."
   ]
  }
 ],
 "metadata": {
  "kernelspec": {
   "display_name": "Python 3.6.8 ('tensorflow-gpu')",
   "language": "python",
   "name": "python3"
  },
  "language_info": {
   "codemirror_mode": {
    "name": "ipython",
    "version": 3
   },
   "file_extension": ".py",
   "mimetype": "text/x-python",
   "name": "python",
   "nbconvert_exporter": "python",
   "pygments_lexer": "ipython3",
   "version": "3.6.8"
  },
  "vscode": {
   "interpreter": {
    "hash": "3c1dd7de172b9d0b9261d13ab63e40c75ab95161a91d78f9c3e0b88a262714b8"
   }
  }
 },
 "nbformat": 4,
 "nbformat_minor": 4
}
